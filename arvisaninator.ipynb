{
 "cells": [
  {
   "cell_type": "code",
   "execution_count": null,
   "metadata": {},
   "outputs": [],
   "source": [
    "import json\n",
    "\n",
    "\n",
    "def read_json_file(file_path):\n",
    "    with open(file_path, 'r') as file:\n",
    "        data = json.load(file)\n",
    "    return data\n",
    "\n",
    "\n",
    "def parse_json(json_string):\n",
    "    json_dict = json.loads(json_string)\n",
    "    return json_dict\n",
    "\n",
    "\n",
    "def prettify_json(obj):\n",
    "    pretty_json = json.dumps(obj, indent=2)\n",
    "    return pretty_json\n",
    "\n",
    "\n",
    "def write_to_json_file(obj, file_path):\n",
    "    with open(file_path, 'w') as json_file:\n",
    "        json.dump(obj, json_file, indent=2)\n"
   ]
  },
  {
   "cell_type": "code",
   "execution_count": null,
   "metadata": {},
   "outputs": [],
   "source": [
    "import configparser\n",
    "\n",
    "def read_ini_file(file_path):\n",
    "    config = configparser.ConfigParser()\n",
    "    config.read(file_path)\n",
    "    ini_dict = {section: dict(config.items(section))\n",
    "                for section in config.sections()}\n",
    "    return ini_dict\n"
   ]
  },
  {
   "cell_type": "code",
   "execution_count": null,
   "metadata": {},
   "outputs": [],
   "source": [
    "def transform_graph(graph):\n",
    "\tnodes = { node['data']['id']: node['data'] for node in graph['elements']['nodes'] }\n",
    "\tedges = {}\n",
    "\tfor edge in graph['elements']['edges']:\n",
    "\t\tif 'label' in edge['data']:\n",
    "\t\t\tlabel = edge['data']['label']\n",
    "\t\telse:\n",
    "\t\t\tlabel = ','.join(edge['data']['labels'])\n",
    "\t\t\tedge['data']['label'] = label\n",
    "\t\t\n",
    "\t\tif label not in edges:\n",
    "\t\t\tedges[label] = []\n",
    "\t\tedges[label].append(edge['data'])\n",
    "\treturn (nodes, edges)\n",
    "\t"
   ]
  },
  {
   "cell_type": "code",
   "execution_count": null,
   "metadata": {},
   "outputs": [],
   "source": [
    "config = read_ini_file('config.ini')\n",
    "project_name = config['project']['name']\n",
    "project_desc = config['project']['desc']\n",
    "ifile = config['project']['ifile']\n",
    "(project_name,project_desc,ifile)"
   ]
  },
  {
   "cell_type": "code",
   "execution_count": null,
   "metadata": {},
   "outputs": [],
   "source": [
    "graph = read_json_file(f\"{project_name}-abstract.json\")\n",
    "nodes,edges = transform_graph(graph)\n",
    "\n",
    "list(nodes.keys()), list(edges.keys())"
   ]
  },
  {
   "cell_type": "code",
   "execution_count": null,
   "metadata": {},
   "outputs": [],
   "source": [
    "\n",
    "node_header = (\"id:ID\",\":LABEL\",\"fullName\",\"simpleName\",\"color\",\"dependencyProfileCategory\",\"cohesion\")\n",
    "edge_header = (\"id\",\":TYPE\",\":START_ID\",\":END_ID\",\"references\",\"dependencyTypes\",\"nrDependencies:INT\",\"nrCalls:INT\")"
   ]
  },
  {
   "cell_type": "code",
   "execution_count": null,
   "metadata": {},
   "outputs": [],
   "source": [
    "domain_name = f'{project_name}-project'\n",
    "domain_node = (domain_name,\"Domain\",domain_name,domain_name,\"#666666\",None,None)\n",
    "app_name = f'{project_name}-app'\n",
    "app_node = (app_name,\"Component\",app_name,app_name,\"#666666\",None,None)\n",
    "\n",
    "contains = [(f\"{domain_name}-contains-{app_name}\",\"CONTAINS\",domain_name,app_name,\"{}\",None,None,None)]\n"
   ]
  },
  {
   "cell_type": "code",
   "execution_count": null,
   "metadata": {},
   "outputs": [],
   "source": [
    "nodes,edges = transform_graph(graph)"
   ]
  },
  {
   "cell_type": "code",
   "execution_count": null,
   "metadata": {},
   "outputs": [],
   "source": [
    "list(nodes.keys())"
   ]
  },
  {
   "cell_type": "code",
   "execution_count": null,
   "metadata": {},
   "outputs": [],
   "source": [
    "list(edges.keys())"
   ]
  },
  {
   "cell_type": "code",
   "execution_count": null,
   "outputs": [],
   "source": [
    "layerColors = {\t\n",
    "    'Presentation Layer': '#ee3239',\n",
    "\t'Service Layer': '#fece00',\n",
    "\t'Domain Layer': '#5eaa5f',\n",
    "\t'Data Source Layer': '#6a6dba',\n",
    "\t'Unknown': '#101010'\n",
    "}"
   ],
   "metadata": {
    "collapsed": false
   }
  },
  {
   "cell_type": "code",
   "execution_count": null,
   "metadata": {},
   "outputs": [],
   "source": [
    "# (\"id:ID\",\":LABEL\",\"fullName\",\"simpleName\",\"color\",\"dependencyProfileCategory\",\"cohesion\")\n",
    "\n",
    "# packages that directly contain classes\n",
    "sublayers = list(set((edge['source'],'Sublayer',edge['source'],nodes[edge['source']]['properties']['simpleName'],layerColors[nodes[edge['source']]['properties'].get('layer', 'Unknown')],None,None) \n",
    "\tfor edge in edges['contains'] if 'Container' in nodes[edge['source']]['labels'] and 'Structure' in nodes[edge['target']]['labels']))\n",
    "\n",
    "sublayers"
   ]
  },
  {
   "cell_type": "code",
   "execution_count": null,
   "metadata": {},
   "outputs": [],
   "source": [
    "# (\"id\",\":TYPE\",\":START_ID\",\":END_ID\",\"references\",\"dependencyTypes\",\"nrDependencies:INT\",\"nrCalls:INT\")\n",
    "contains += [(f'{app_name}-contains-{id}','CONTAINS',app_name,id,\"{}\",None,None,None) for id,label,fullName,simpleName,color,depProfileCat,cohesion in sublayers]"
   ]
  },
  {
   "cell_type": "code",
   "execution_count": null,
   "metadata": {},
   "outputs": [],
   "source": [
    "# (\"id\",\":TYPE\",\":START_ID\",\":END_ID\",\"references\",\"dependencyTypes\",\"nrDependencies:INT\",\"nrCalls:INT\")\n",
    "contains += [(edge['id'],'CONTAINS',edge['source'],edge['target'],\"{}\",None,None,None)\n",
    "\tfor edge in edges['contains'] if 'Container' in nodes[edge['source']]['labels'] and 'Structure' in nodes[edge['target']]['labels']]\n",
    "\n",
    "contains"
   ]
  },
  {
   "cell_type": "code",
   "execution_count": null,
   "metadata": {},
   "outputs": [],
   "source": [
    "# (\"id\",\":TYPE\",\":START_ID\",\":END_ID\",\"references\",\"dependencyTypes\",\"nrDependencies:INT\",\"nrCalls:INT\")\n",
    "calls = [(f'{edge[\"source\"]}-calls-{edge[\"target\"]}','CALLS',edge['source'],edge['target'],\"{}\",\"compile_time\",edge['properties']['weight'],None)\n",
    "\tfor edge in edges['calls'] if edge['source'] != edge['target']]\n",
    "\n",
    "calls"
   ]
  },
  {
   "cell_type": "code",
   "execution_count": null,
   "metadata": {},
   "outputs": [],
   "source": [
    "def invert(edgeList):\n",
    "    prefix = \"inv_\"\n",
    "    invertedEdges = []\n",
    "    for edge in edgeList:\n",
    "        invertedEdge = {\n",
    "            'source': edge['target'],\n",
    "            'target': edge['source'],\n",
    "            'label': prefix + edge.get('label', ''),\n",
    "            **{key: value for key, value in edge.items() if key not in ['source', 'target', 'label']}\n",
    "        }\n",
    "        invertedEdges.append(invertedEdge)\n",
    "    return invertedEdges\n",
    "\n",
    "parents = {e['source']:e['target'] for e in invert(edges['contains'])}\n",
    "parents"
   ]
  },
  {
   "cell_type": "code",
   "execution_count": null,
   "metadata": {},
   "outputs": [],
   "source": [
    "from collections import Counter\n",
    "\n",
    "dependencyProfiles = dict()\n",
    "\n",
    "for edge in edges['calls']:\n",
    "\n",
    "\tsrcId = edge['source']\n",
    "\ttgtId = edge['target']\n",
    "\n",
    "\tif not srcId in dependencyProfiles:\n",
    "\t\tdependencyProfiles[srcId] = list()\n",
    "\tif not tgtId in dependencyProfiles:\n",
    "\t\tdependencyProfiles[tgtId] = list()\n",
    "\t\n",
    "\tif parents[srcId] != parents[tgtId]:\n",
    "\t\tdependencyProfiles[srcId].append('out')\n",
    "\t\tdependencyProfiles[tgtId].append('in')\n",
    "\n",
    "dependencyProfiles = {id:Counter(profile) for id, profile in dependencyProfiles.items()}"
   ]
  },
  {
   "cell_type": "code",
   "execution_count": null,
   "metadata": {},
   "outputs": [],
   "source": [
    "def depProfile(inn,out):\n",
    "\tif inn==0 and out>0:\n",
    "\t\treturn \"outbound\"\n",
    "\telif inn>0 and out==0:\n",
    "\t\treturn \"inbound\"\n",
    "\telif inn>0 and out>0:\n",
    "\t\treturn \"transit\"\n",
    "\telse:\n",
    "\t\treturn \"hidden\""
   ]
  },
  {
   "cell_type": "code",
   "execution_count": null,
   "metadata": {},
   "outputs": [],
   "source": [
    "dependencyProfiles = {id:depProfile(profile['in'],profile['out']) \n",
    "\t\tfor id, profile in dependencyProfiles.items()}"
   ]
  },
  {
   "cell_type": "code",
   "execution_count": null,
   "metadata": {},
   "outputs": [],
   "source": [
    "dependencyProfiles"
   ]
  },
  {
   "cell_type": "code",
   "execution_count": null,
   "metadata": {},
   "outputs": [],
   "source": [
    "\n",
    "projProfile = Counter(dependencyProfiles.values())\n",
    "projProfile"
   ]
  },
  {
   "cell_type": "code",
   "execution_count": null,
   "metadata": {},
   "outputs": [],
   "source": [
    "l = (projProfile['hidden'],projProfile['inbound'],projProfile['outbound'],projProfile['transit'])\n",
    "n = sum(l)\n",
    "tuple(i/n for i in l)"
   ]
  },
  {
   "cell_type": "code",
   "execution_count": null,
   "outputs": [],
   "source": [
    "roleStereotypeColors = {\n",
    "    \"Unknown\": \"#cccccc\",\n",
    "    \"Controller\": \"#decbe4\",\n",
    "    \"Coordinator\": \"#ccebc5\",\n",
    "    \"Information Holder\": \"#fbb4ae\",\n",
    "    \"Interfacer\": \"#fed9a6\",\n",
    "    \"User Interfacer\": \"#fed9a6\",\n",
    "    \"Internal Interfacer\": \"#fed9a6\",\n",
    "    \"External Interfacer\": \"#fed9a6\",\n",
    "    \"Service Provider\": \"#b3cde3\",\n",
    "    \"Structurer\": \"#fddaec\",\n",
    "}"
   ],
   "metadata": {
    "collapsed": false
   }
  },
  {
   "cell_type": "code",
   "execution_count": null,
   "metadata": {},
   "outputs": [],
   "source": [
    "# (\"id:ID\",\":LABEL\",\"fullName\",\"simpleName\",\"color\",\"dependencyProfileCategory\",\"cohesion\")\n",
    "modules = [(id,'Module', id, node['properties']['simpleName'], roleStereotypeColors[node['properties'].get('roleStereotype', 'Unknown')], dependencyProfiles.get(id, None), None)\n",
    "\tfor id,node in nodes.items() if 'Structure' in node['labels'] and id != 'java.lang.String']\n",
    "\n",
    "modules"
   ]
  },
  {
   "cell_type": "code",
   "execution_count": null,
   "metadata": {},
   "outputs": [],
   "source": [
    "import csv\n",
    "\n",
    "with open(f\"{project_name}-nodes.csv\", mode='w', newline='') as file:\n",
    "    writer = csv.writer(file)\n",
    "    writer.writerow(node_header)\n",
    "    writer.writerow(domain_node)\n",
    "    writer.writerow(app_node)\n",
    "    writer.writerows(sublayers)\n",
    "    writer.writerows(modules)\n",
    "\n",
    "with open(f\"{project_name}-edges.csv\", mode='w', newline='') as file:\n",
    "    writer = csv.writer(file)\n",
    "    writer.writerow(edge_header)\n",
    "    writer.writerows(contains)\n",
    "    writer.writerows(calls)"
   ]
  }
 ],
 "metadata": {
  "kernelspec": {
   "display_name": "default",
   "language": "python",
   "name": "python3"
  },
  "language_info": {
   "codemirror_mode": {
    "name": "ipython",
    "version": 3
   },
   "file_extension": ".py",
   "mimetype": "text/x-python",
   "name": "python",
   "nbconvert_exporter": "python",
   "pygments_lexer": "ipython3",
   "version": "3.10.8"
  }
 },
 "nbformat": 4,
 "nbformat_minor": 2
}
