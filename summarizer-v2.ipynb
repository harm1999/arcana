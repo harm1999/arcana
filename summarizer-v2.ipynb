{
 "cells": [
  {
   "attachments": {},
   "cell_type": "markdown",
   "metadata": {},
   "source": [
    "## Imports & helper functions"
   ]
  },
  {
   "cell_type": "code",
   "execution_count": null,
   "metadata": {},
   "outputs": [],
   "source": [
    "%pip install --upgrade openai\n",
    "%pip install --upgrade tqdm"
   ]
  },
  {
   "cell_type": "code",
   "execution_count": null,
   "metadata": {},
   "outputs": [],
   "source": [
    "import json\n",
    "from tqdm import tqdm\n",
    "\n",
    "def read_json_file(file_path):\n",
    "    with open(file_path, 'r') as file:\n",
    "        data = json.load(file)\n",
    "    return data\n",
    "\n",
    "\n",
    "def parse_json(json_string):\n",
    "    json_dict = json.loads(json_string)\n",
    "    return json_dict\n",
    "\n",
    "\n",
    "def prettify_json(obj):\n",
    "    pretty_json = json.dumps(obj, indent=2)\n",
    "    return pretty_json\n",
    "\n",
    "\n",
    "def write_to_json_file(obj, file_path):\n",
    "    with open(file_path, 'w') as json_file:\n",
    "        json.dump(obj, json_file, indent=2)\n"
   ]
  },
  {
   "cell_type": "code",
   "execution_count": null,
   "metadata": {},
   "outputs": [],
   "source": [
    "import configparser\n",
    "\n",
    "def read_ini_file(file_path):\n",
    "    config = configparser.ConfigParser()\n",
    "    config.read(file_path)\n",
    "    ini_dict = {section: dict(config.items(section))\n",
    "                for section in config.sections()}\n",
    "    return ini_dict\n"
   ]
  },
  {
   "cell_type": "code",
   "execution_count": null,
   "metadata": {},
   "outputs": [],
   "source": [
    "from openai import OpenAI"
   ]
  },
  {
   "cell_type": "code",
   "execution_count": null,
   "metadata": {},
   "outputs": [],
   "source": [
    "import re\n",
    "\n",
    "\n",
    "def remove_java_comments(java_source):\n",
    "    # Regular expression to match Java comments (both single-line and multi-line)\n",
    "    pattern = r\"(//.*?$)|(/\\*.*?\\*/)\"\n",
    "\n",
    "    # Remove comments using the regular expression\n",
    "    java_source_without_comments = re.sub(\n",
    "        pattern, \"\", java_source, flags=re.MULTILINE | re.DOTALL)\n",
    "\n",
    "    return java_source_without_comments.strip()\n"
   ]
  },
  {
   "cell_type": "code",
   "execution_count": null,
   "metadata": {},
   "outputs": [],
   "source": [
    "def sentence(s):\n",
    "    '''\n",
    "    Capitalize the first letter of a string `s` and ensures that the string \n",
    "    ends with a period (if it's not already a sentence-ending punctuation).\n",
    "    '''\n",
    "    t = s.strip()\n",
    "    if t[-1] in '.?!…~–—':\n",
    "        return f'{t[0].upper()}{t[1:]}'\n",
    "    else:\n",
    "        return f'{t[0].upper()}{t[1:]}.'"
   ]
  },
  {
   "cell_type": "code",
   "execution_count": null,
   "metadata": {},
   "outputs": [],
   "source": [
    "def transform_graph(graph):\n",
    "\tnodes = { node['data']['id']: node['data'] for node in graph['elements']['nodes'] }\n",
    "\tedges = {}\n",
    "\tfor edge in graph['elements']['edges']:\n",
    "\t\tif 'label' in edge['data']:\n",
    "\t\t\tlabel = edge['data']['label']\n",
    "\t\telse:\n",
    "\t\t\tlabel = ','.join(edge['data']['labels'])\n",
    "\t\t\tedge['data']['label'] = label\n",
    "\t\t\n",
    "\t\tif label not in edges:\n",
    "\t\t\tedges[label] = []\n",
    "\t\tedges[label].append(edge['data'])\n",
    "\treturn (nodes, edges)\n",
    "\t"
   ]
  },
  {
   "cell_type": "code",
   "execution_count": null,
   "metadata": {},
   "outputs": [],
   "source": [
    "def invert(edgeList):\n",
    "    prefix = \"inv_\"\n",
    "    invertedEdges = []\n",
    "    for edge in edgeList:\n",
    "        invertedEdge = {\n",
    "            'source': edge['target'],\n",
    "            'target': edge['source'],\n",
    "            'label': prefix + edge.get('label', ''),\n",
    "            **{key: value for key, value in edge.items() if key not in ['source', 'target', 'label']}\n",
    "        }\n",
    "        invertedEdges.append(invertedEdge)\n",
    "    return invertedEdges\n",
    "\n",
    "def find_paths(edgeList1, edgeList2):\n",
    "    source_mapping = {}\n",
    "    for edge in edgeList1:\n",
    "        source_mapping[edge['target']] = edge['source']\n",
    "\n",
    "    paths = set()\n",
    "    for edge in edgeList2:\n",
    "        if edge['source'] in source_mapping:\n",
    "            source1 = source_mapping[edge['source']]\n",
    "            path = [source1, edge['source'], edge['target']]\n",
    "            paths.add(tuple(path))\n",
    "\n",
    "    return paths"
   ]
  },
  {
   "attachments": {},
   "cell_type": "markdown",
   "metadata": {},
   "source": [
    "## Parameters"
   ]
  },
  {
   "cell_type": "code",
   "execution_count": null,
   "metadata": {},
   "outputs": [],
   "source": [
    "# If True: do not call the API, just print the prompts\n",
    "only_print_prompt = False"
   ]
  },
  {
   "cell_type": "code",
   "execution_count": null,
   "metadata": {},
   "outputs": [],
   "source": [
    "config = read_ini_file('config.ini')\n",
    "project_name = config['project']['name']\n",
    "project_name\n",
    "ifile = config['project']['ifile']"
   ]
  },
  {
   "attachments": {},
   "cell_type": "markdown",
   "metadata": {},
   "source": [
    "## Read graph file\n",
    "\n",
    "To access knowledge graph extracted using javapers."
   ]
  },
  {
   "cell_type": "code",
   "execution_count": null,
   "metadata": {},
   "outputs": [],
   "source": [
    "graph = read_json_file(ifile)\n",
    "nodes,edges = transform_graph(read_json_file(ifile))"
   ]
  },
  {
   "attachments": {},
   "cell_type": "markdown",
   "metadata": {},
   "source": [
    "## Connect to openai"
   ]
  },
  {
   "cell_type": "code",
   "execution_count": null,
   "metadata": {},
   "outputs": [],
   "source": [
    "cliet_args = dict()\n",
    "\n",
    "if 'apikey' in config['openai']:\n",
    "    cliet_args['api_key'] = config['openai']['apikey']\n",
    "if 'apibase' in config['openai']:\n",
    "    cliet_args['base_url'] = config['openai']['apibase']\n",
    "if 'model' in config['openai']:\n",
    "    model = config['openai']['model']\n",
    "else:\n",
    "    model = \"gpt-3.5-turbo\"\n",
    "\n",
    "(list(cliet_args.keys()), model)"
   ]
  },
  {
   "cell_type": "code",
   "execution_count": null,
   "metadata": {},
   "outputs": [],
   "source": [
    "client = OpenAI(**cliet_args)\n",
    "client.base_url"
   ]
  },
  {
   "cell_type": "code",
   "execution_count": null,
   "metadata": {},
   "outputs": [],
   "source": [
    "# test the LLM server---create a completion\n",
    "completion = client.chat.completions.create(\n",
    "    model=model,\n",
    "    messages=[{\"role\":\"user\",\"content\":\"What is your name?\"}],\n",
    "    temperature=0\n",
    ")\n",
    "# print the completion\n",
    "print(completion.choices[0].message.content)"
   ]
  },
  {
   "attachments": {},
   "cell_type": "markdown",
   "metadata": {},
   "source": [
    "## Elements to be inspected"
   ]
  },
  {
   "cell_type": "code",
   "execution_count": null,
   "metadata": {},
   "outputs": [],
   "source": [
    "methods = sorted(find_paths(edges['contains'], edges['hasScript']))\n",
    "len(methods)"
   ]
  },
  {
   "cell_type": "code",
   "execution_count": null,
   "metadata": {},
   "outputs": [],
   "source": [
    "classes = sorted({(pkg,clz) for pkg,clz,_ in methods})\n",
    "len(classes)"
   ]
  },
  {
   "cell_type": "code",
   "execution_count": null,
   "metadata": {},
   "outputs": [],
   "source": [
    "packages = sorted({pkg for pkg,_ in classes})\n",
    "len(packages),packages"
   ]
  },
  {
   "cell_type": "code",
   "execution_count": null,
   "metadata": {},
   "outputs": [],
   "source": [
    "goals = {pkg_id:{\n",
    "\t'qualifiedName': nodes[pkg_id]['properties']['qualifiedName'],\n",
    "\t'classes': {cls_id: {\n",
    "\t\t'qualifiedName': nodes[cls_id]['properties']['qualifiedName'],\n",
    "\t\t'kind': nodes[cls_id]['properties']['kind'],\n",
    "\t\t'methods': {met_id: {\n",
    "\t\t\t'qualifiedName': nodes[met_id]['properties']['qualifiedName']\n",
    "\t\t} for _,c,met_id in methods if c == cls_id}\n",
    "\t} for p,cls_id in classes if p == pkg_id}\n",
    "} for pkg_id in packages}\n",
    "\n",
    "# goals"
   ]
  },
  {
   "attachments": {},
   "cell_type": "markdown",
   "metadata": {},
   "source": [
    "## Ask LLM to summarize methods"
   ]
  },
  {
   "cell_type": "code",
   "execution_count": null,
   "metadata": {},
   "outputs": [],
   "source": [
    "method_prompt_template = '''This is method `{op_name}` of {struct_kind} `{struct_name}`:\n",
    "\n",
    "```java\n",
    "{op_src}\n",
    "```\n",
    "\n",
    "Explain the above method on the following aspects:\n",
    "\n",
    "* What: Describe the functionality of the method in one sentence.\n",
    "\n",
    "* Parameters: A list of parameter names, types, and descriptions.\n",
    "\n",
    "* Returns: The return type and description. In case of a constructor, consider the constructed class as the return type.\n",
    "\n",
    "* Why: Explain, in one sentence, the reason why the method is provided or the design rationale of the method.\n",
    "\n",
    "* How-to-use: Describe the usage or the expected set-up of using the method in less than 3 sentences.\n",
    "\n",
    "* How-it-is-done: Describe the implementation details of the method in less than 5 sentences.\n",
    "\n",
    "* Property: Assert properties of the method including (list of) pre-conditions and/or (list of) post-conditions of the method.\n",
    "\n",
    "Respond with a well-formatted JSON object. Do not use any quote marks (\"'`) within the JSON values.\n",
    "'''\n",
    "\n",
    "current_pkg = None\n",
    "current_cls = None\n",
    "\n",
    "for pkg_id,cls_id,met_id in methods: # tqdm(methods, desc='Processing methods'):\n",
    "    \n",
    "    # if not 'description' in goals[pkg_id]['classes'][cls_id]['methods'][met_id] \\\n",
    "    #         or goals[pkg_id]['classes'][cls_id]['methods'][met_id]['description'] == '{}':\n",
    "\n",
    "        if current_pkg != pkg_id:\n",
    "            last_pkg = current_pkg\n",
    "            current_pkg = pkg_id\n",
    "            print('#', current_pkg)\n",
    "        \n",
    "        if current_cls != cls_id:\n",
    "            last_cls = current_cls\n",
    "            current_cls = cls_id\n",
    "            print('\\t*', current_cls)\n",
    "\n",
    "        print('\\t\\t-', met_id)\n",
    "\n",
    "        package = nodes[pkg_id]\n",
    "        clasz = nodes[cls_id]\n",
    "        method = nodes[met_id]\n",
    "\n",
    "        class_name = clasz['properties']['qualifiedName']\n",
    "        class_kind = clasz['properties']['kind']\n",
    "        if class_kind == 'enumeration':\n",
    "            class_kind = 'enum'\n",
    "        elif class_kind == 'abstract':\n",
    "            class_kind = 'abstract class'\n",
    "\n",
    "        method_name = method['properties']['simpleName']\n",
    "        method_src = method['properties']['sourceText']\n",
    "\n",
    "        prompt = method_prompt_template.format(\n",
    "            op_name= method_name, \n",
    "            struct_kind= class_kind, \n",
    "            struct_name= class_name, \n",
    "            op_src= remove_java_comments(method_src))\n",
    "        if only_print_prompt:\n",
    "            print(prompt)\n",
    "            print()\n",
    "        else:\n",
    "            response = None\n",
    "            try:\n",
    "                response = client.chat.completions.create(\n",
    "                    model=model,\n",
    "                    response_format= { \"type\": \"json_object\" },\n",
    "                    messages=[\n",
    "                        {\"role\": \"user\",\"content\": prompt}, \n",
    "                        # {\"role\": \"assistant\",\"content\": '{ \"What\": \"'}\n",
    "\t\t\t\t\t],\n",
    "                    max_tokens=1024, # stop=[\". \"],\n",
    "                    temperature=0)\n",
    "                description = response.choices[0].message.content\n",
    "            except:\n",
    "                description = '{}'\n",
    "                print(response)\n",
    "            print('\\t\\t\\t', description.replace('\\n', '\\n\\t\\t\\t'))\n",
    "            goals[pkg_id]['classes'][cls_id]['methods'][met_id]['description'] = json.loads(description)\n",
    "\n",
    "print(prettify_json(goals))\n"
   ]
  },
  {
   "cell_type": "code",
   "execution_count": null,
   "metadata": {},
   "outputs": [],
   "source": [
    "from statistics import median, quantiles\n",
    "\n",
    "num_classes_per_pkg = [len(pkg_desc['classes']) for _, pkg_desc in goals.items()]\n",
    "num_methods_per_class =  [len(class_desc['methods']) for _, pkg_desc in goals.items() for _, class_desc in pkg_desc['classes'].items()]\n",
    "len(goals), sum(num_classes_per_pkg), min(num_classes_per_pkg), max(num_classes_per_pkg), median(num_classes_per_pkg), quantiles(num_classes_per_pkg, n=4), sum(\n",
    "    num_methods_per_class), min(num_methods_per_class), max(num_methods_per_class), median(num_methods_per_class), quantiles(num_methods_per_class, n=4)\n"
   ]
  },
  {
   "cell_type": "code",
   "execution_count": null,
   "metadata": {},
   "outputs": [],
   "source": [
    "if not only_print_prompt:\n",
    "  write_to_json_file(goals, f\"{project_name}-goals_1-{model}.json\")"
   ]
  },
  {
   "cell_type": "code",
   "execution_count": null,
   "metadata": {},
   "outputs": [],
   "source": [
    "# goals = read_json_file(f\"{project_name}-goals_1-{model}.json\")\n",
    "# goals"
   ]
  },
  {
   "attachments": {},
   "cell_type": "markdown",
   "metadata": {},
   "source": [
    "## Ask LLM to summarize classes (based on methods)"
   ]
  },
  {
   "cell_type": "code",
   "execution_count": null,
   "metadata": {},
   "outputs": [],
   "source": [
    "class_prompt_template = '''A Java {struct_type} `{struct_name}` contains the following field(s) and method(s):\n",
    "\n",
    "Fields:\n",
    "\n",
    "{fields}\n",
    "\n",
    "Methods:\n",
    "\n",
    "{methods}\n",
    "\n",
    "Describe the responsibilities of this {struct_type}. Frame the class in one of the following role stereotypes:\n",
    "\n",
    "- **Information Holder** is responsible for knowing facts and maintaining consistency of its information.\n",
    "\n",
    "- **Service Provider** is responsible for handling requests and performing specific services.\n",
    "\n",
    "- **Structurer** is responsible for managing connections and constraints among related things.\n",
    "\n",
    "- **Controller** is responsible for making decisions, directing the work of others, and handling important events.\n",
    "\n",
    "- **Coordinator** is responsible for managing the actions of a group of workers and facilitating communication and work of other objects.\n",
    "\n",
    "- **User Interfacer** is responsible for transmitting user requests for action or display information that can be updated.\n",
    "\n",
    "- **External Interfacer** is responsible for handling faulty conditions in other systems they interface to, relieving their clients of having to know about lower-level details and recovery strategies.\n",
    "\n",
    "- **Internal Interfacer** is responsible for delegating external requests to objects in its neighborhood.\n",
    "\n",
    "And in one of the following architectural layer:\n",
    "\n",
    "- **Presentation Layer**: Manages the user interface, defines UI elements and behavior, displays information, responds to user input, and updates views. Typically (but not only) contains User Interfacers.\n",
    "\n",
    "- **Service Layer**: Controls the application flow, orchestrates domain operations, connects UI events with domain logic, and synchronizes domain changes with the UI. Typically (but not only) contains Coordinators and (Application) Controllers.\n",
    "\n",
    "- **Domain Layer**: Handles business logic, represents domain data and behavior, and performs necessary computations for domain operations. Typically (but not only) contains Information Holders, Service Providers, Structurers, Coordinators, and (Domain) Controllers.\n",
    "\n",
    "- **Data Source Layer**: Interacts with databases, filesystems, hardware, messaging systems, or other data sources, performs CRUD operations, handles data conversion, and ensures data integrity. Typically (but not only) contains External Interfacers.\n",
    "\n",
    "Answer in well-formatted JSON { \"Role-Stereotype\": ..., \"Layer\": ..., \"Responsibility\": ... }'''\n",
    "\n",
    "current_pkg = None\n",
    "\n",
    "for pkg_id,cls_id in tqdm(classes, desc='Processing methods'):\n",
    "\n",
    "    if not 'description' in goals[pkg_id]['classes'][cls_id] \\\n",
    "            or goals[pkg_id]['classes'][cls_id]['description'] == '(no description)':\n",
    "\n",
    "        if current_pkg != pkg_id:\n",
    "            last_pkg = current_pkg\n",
    "            current_pkg = pkg_id\n",
    "            print('#', current_pkg)\n",
    "        \n",
    "        print('\\t*', cls_id)\n",
    "\n",
    "        package = nodes[pkg_id]\n",
    "        clasz = nodes[cls_id]\n",
    "\n",
    "        class_name = clasz['properties']['qualifiedName']\n",
    "        class_kind = clasz['properties']['kind']\n",
    "        if class_kind == 'enumeration':\n",
    "            class_kind = 'enum'\n",
    "        elif class_kind == 'abstract':\n",
    "            class_kind = 'abstract class'\n",
    "\n",
    "        fields = {edge['target'] for edge in edges['hasVariable'] if edge['source'] == cls_id}\n",
    "        fields = [remove_java_comments(nodes[field]['properties']['sourceText']) for field in fields]\n",
    "\n",
    "        prompt = class_prompt_template.format(\n",
    "                struct_type=class_kind, \n",
    "                struct_name=class_name, \n",
    "                fields=\"\\n\".join([f\"- `{field}`\" for field in fields]) if fields else \"(no fields)\",\n",
    "                methods=\"\\n\".join([f\"- `{nodes[met_id]['properties']['simpleName']}`: {method['description']}\" for met_id,method in goals[pkg_id]['classes'][cls_id]['methods'].items()])) if methods else \"(no methods)\"\n",
    "        \n",
    "        if only_print_prompt:\n",
    "            print(prompt)\n",
    "            print()\n",
    "        else:\n",
    "            response = None\n",
    "            try:\n",
    "                # print(prompt)\n",
    "                response = client.chat.completions.create(\n",
    "                    model=model,\n",
    "                    response_format= { \"type\": \"json_object\" },\n",
    "                    messages=[\n",
    "                        {\"role\": \"user\", \"content\": prompt}, \n",
    "                        # {\"role\": \"assistant\", \"content\": \"{\"}\n",
    "\t\t\t\t\t],\n",
    "                    max_tokens=1024, \n",
    "                    # stop=[\". \"],\n",
    "                    temperature=0)\n",
    "                description = response.choices[0].message.content\n",
    "            except:\n",
    "                description = \"{}\"\n",
    "                print(response)\n",
    "            print('\\t\\t', description)\n",
    "            goals[pkg_id]['classes'][cls_id]['description'] = json.loads(description)\n",
    "\n",
    "print(prettify_json(goals))\n"
   ]
  },
  {
   "cell_type": "code",
   "execution_count": null,
   "metadata": {},
   "outputs": [],
   "source": [
    "if not only_print_prompt:\n",
    "  write_to_json_file(goals, f\"{project_name}-goals_2-{model}.json\")\n"
   ]
  },
  {
   "cell_type": "code",
   "execution_count": null,
   "metadata": {},
   "outputs": [],
   "source": [
    "# goals = read_json_file(f\"{project_name}-goals_2-{model}.json\")\n",
    "# goals.keys()"
   ]
  },
  {
   "attachments": {},
   "cell_type": "markdown",
   "metadata": {},
   "source": [
    "## Ask LLM to summarize packages (based on classes)"
   ]
  },
  {
   "cell_type": "code",
   "execution_count": null,
   "metadata": {},
   "outputs": [],
   "source": [
    "package_prompt_template = '''Given a Java package `{pkg_name}` containing the following classes:\n",
    "\n",
    "{classes}\n",
    "\n",
    "What is the purpose of this package? Frame the package in one of the following architectural layer:\n",
    "\n",
    "- **Presentation Layer**: Manages the user interface, defines UI elements and behavior, displays information, responds to user input, and updates views. Typically (but not only) contains User Interfacers.\n",
    "\n",
    "- **Service Layer**: Controls the application flow, orchestrates domain operations, connects UI events with domain logic, and synchronizes domain changes with the UI. Typically (but not only) contains Coordinators and (Application) Controllers.\n",
    "\n",
    "- **Domain Layer**: Handles business logic, represents domain data and behavior, and performs necessary computations for domain operations. Typically (but not only) contains Information Holders, Service Providers, Structurers, Coordinators, and (Domain) Controllers.\n",
    "\n",
    "- **Data Source Layer**: Interacts with databases, filesystems, hardware, messaging systems, or other data sources, performs CRUD operations, handles data conversion, and ensures data integrity. Typically (but not only) contains External Interfacers.\n",
    "\n",
    "Answer in well-formatted JSON { \"Layer\": ..., \"Purpose\": ... }'''\n",
    "\n",
    "nl = '\\n'\n",
    "\n",
    "for pkg_id in tqdm(packages, desc='Processing methods'):\n",
    "\n",
    "    if not 'description' in goals[pkg_id] \\\n",
    "            or goals[pkg_id]['description'] == '(no description)':\n",
    "      \n",
    "        print('#', pkg_id)\n",
    "        \n",
    "        package = goals[pkg_id]\n",
    "        package_name = nodes[pkg_id]['properties']['qualifiedName']\n",
    "\n",
    "        if goals[pkg_id]['classes']:\n",
    "            prompt = package_prompt_template.format(\n",
    "              pkg_name= package_name,\n",
    "              classes= \"\\n\".join([f\"- {nodes[cls_id]['properties']['kind']} `{clasz['qualifiedName']}`: {clasz.get('description', '(no description)').replace(nl, '')}\" \n",
    "                                  for cls_id, clasz in package['classes'].items()])\n",
    "            )\n",
    "            \n",
    "            if only_print_prompt:\n",
    "                print(prompt)\n",
    "            else:\n",
    "                response = None\n",
    "                try:\n",
    "                    response = client.chat.completions.create(\n",
    "                        model=model,\n",
    "                        messages=[\n",
    "                            {\"role\": \"user\", \"content\": prompt}, \n",
    "                            # {\"role\": \"assistant\", \"content\": f\"The package `{package_name}` is a package that\"}\n",
    "\t\t\t\t\t\t],\n",
    "                        max_tokens=1024, \n",
    "                        # stop=[\". \"],\n",
    "                        temperature=0)\n",
    "                    description = response.choices[0].message.content\n",
    "                except:\n",
    "                    description = '{}'\n",
    "                    print(response)\n",
    "                print('\\t', description)\n",
    "                goals[pkg_id]['description'] = json.loads(description)\n",
    "\n",
    "print(prettify_json(goals))\n"
   ]
  },
  {
   "cell_type": "code",
   "execution_count": null,
   "metadata": {},
   "outputs": [],
   "source": [
    "if not only_print_prompt:\n",
    "  write_to_json_file(goals, f\"{project_name}-goals_3-{model}.json\")\n"
   ]
  },
  {
   "cell_type": "code",
   "execution_count": null,
   "metadata": {},
   "outputs": [],
   "source": [
    "goals = read_json_file(f\"{project_name}-goals_3-{model}.json\")\n",
    "goals.keys()"
   ]
  },
  {
   "attachments": {},
   "cell_type": "markdown",
   "metadata": {},
   "source": [
    "## Which methods/classes/packages could not be summarized by the LLM?"
   ]
  },
  {
   "cell_type": "code",
   "execution_count": null,
   "metadata": {},
   "outputs": [],
   "source": [
    "method_no_desc = [\n",
    "    (pkg_name, class_name, method_name)\n",
    "    for pkg_name, pkg_desc in goals.items()\n",
    "    for class_name, class_desc in pkg_desc['classes'].items()\n",
    "    for method_name in class_desc['methods']\n",
    "    if class_desc['methods'][method_name]['description'] == \"(no description)\"\n",
    "]\n",
    "\n",
    "print(prettify_json(method_no_desc))\n"
   ]
  },
  {
   "cell_type": "code",
   "execution_count": null,
   "metadata": {},
   "outputs": [],
   "source": [
    "class_no_desc = [\n",
    "    (pkg_name, class_name)\n",
    "    for pkg_name, pkg_desc in goals.items()\n",
    "    for class_name in pkg_desc['classes']\n",
    "    if pkg_desc['classes'][class_name]['description'] == \"(no description)\"\n",
    "]\n",
    "\n",
    "print(prettify_json(class_no_desc))\n"
   ]
  },
  {
   "cell_type": "code",
   "execution_count": null,
   "metadata": {},
   "outputs": [],
   "source": [
    "package_no_desc = [\n",
    "    pkg_name\n",
    "    for pkg_name in goals\n",
    "    if goals[pkg_name]['description'] == \"(no description)\"\n",
    "]\n",
    "\n",
    "print(prettify_json(package_no_desc))\n"
   ]
  },
  {
   "cell_type": "markdown",
   "metadata": {},
   "source": [
    "## Add the summaries back to the graph nodes"
   ]
  },
  {
   "cell_type": "code",
   "execution_count": null,
   "metadata": {},
   "outputs": [],
   "source": [
    "for pkg_id,package in goals.items():\n",
    "\tnodes[pkg_id]['properties']['description'] = package['description']\n",
    "\t\n",
    "\tfor cls_id,clasz in package['classes'].items():\n",
    "\t\tnodes[cls_id]['properties']['description'] = clasz['description']\n",
    "\n",
    "\t\tfor met_id,method in clasz['methods'].items():\n",
    "\t\t\tnodes[met_id]['properties']['description'] = method['description']"
   ]
  },
  {
   "cell_type": "code",
   "execution_count": null,
   "metadata": {},
   "outputs": [],
   "source": [
    "nodes"
   ]
  },
  {
   "cell_type": "code",
   "execution_count": null,
   "metadata": {},
   "outputs": [],
   "source": [
    "graph['elements']['nodes'] = [{'data':node_data} for node_data in nodes.values()]"
   ]
  },
  {
   "cell_type": "code",
   "execution_count": null,
   "metadata": {},
   "outputs": [],
   "source": [
    "write_to_json_file(graph,f'{project_name}-with-summaries.json')"
   ]
  }
 ],
 "metadata": {
  "kernelspec": {
   "display_name": "default",
   "language": "python",
   "name": "python3"
  },
  "language_info": {
   "codemirror_mode": {
    "name": "ipython",
    "version": 3
   },
   "file_extension": ".py",
   "mimetype": "text/x-python",
   "name": "python",
   "nbconvert_exporter": "python",
   "pygments_lexer": "ipython3",
   "version": "3.10.8"
  },
  "orig_nbformat": 4
 },
 "nbformat": 4,
 "nbformat_minor": 2
}
