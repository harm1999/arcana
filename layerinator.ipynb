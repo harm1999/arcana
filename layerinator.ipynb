{
 "cells": [
  {
   "attachments": {},
   "cell_type": "markdown",
   "metadata": {},
   "source": [
    "## Imports & helper functions"
   ]
  },
  {
   "cell_type": "code",
   "execution_count": null,
   "metadata": {},
   "outputs": [],
   "source": [
    "%pip install --upgrade py2neo\n",
    "%pip install --upgrade openai"
   ]
  },
  {
   "cell_type": "code",
   "execution_count": null,
   "metadata": {},
   "outputs": [],
   "source": [
    "from py2neo import Graph\n"
   ]
  },
  {
   "cell_type": "code",
   "execution_count": null,
   "metadata": {},
   "outputs": [],
   "source": [
    "from itertools import groupby\n",
    "import random"
   ]
  },
  {
   "cell_type": "code",
   "execution_count": null,
   "metadata": {},
   "outputs": [],
   "source": [
    "import json\n",
    "\n",
    "\n",
    "def read_json_file(file_path):\n",
    "    with open(file_path, 'r') as file:\n",
    "        data = json.load(file)\n",
    "    return data\n",
    "\n",
    "\n",
    "def parse_json(json_string):\n",
    "  json_dict = json.loads(json_string)\n",
    "  return json_dict\n",
    "\n",
    "\n",
    "def dict_to_pretty_json(dictionary):\n",
    "  pretty_json = json.dumps(dictionary, indent=2)\n",
    "  return pretty_json\n",
    "\n",
    "\n",
    "def write_dict_to_json(dictionary, file_path):\n",
    "  with open(file_path, 'w') as json_file:\n",
    "    json.dump(dictionary, json_file, indent=2)\n"
   ]
  },
  {
   "cell_type": "code",
   "execution_count": null,
   "metadata": {},
   "outputs": [],
   "source": [
    "import configparser\n",
    "\n",
    "def read_ini_file(file_path):\n",
    "    config = configparser.ConfigParser()\n",
    "    config.read(file_path)\n",
    "    ini_dict = {section: dict(config.items(section))\n",
    "                for section in config.sections()}\n",
    "    return ini_dict\n"
   ]
  },
  {
   "cell_type": "code",
   "execution_count": null,
   "metadata": {},
   "outputs": [],
   "source": [
    "from openai import OpenAI"
   ]
  },
  {
   "cell_type": "code",
   "execution_count": null,
   "metadata": {},
   "outputs": [],
   "source": [
    "import re\n",
    "\n",
    "\n",
    "def remove_java_comments(java_source):\n",
    "    # Regular expression to match Java comments (both single-line and multi-line)\n",
    "    pattern = r\"(//.*?$)|(/\\*.*?\\*/)\"\n",
    "\n",
    "    # Remove comments using the regular expression\n",
    "    java_source_without_comments = re.sub(\n",
    "        pattern, \"\", java_source, flags=re.MULTILINE | re.DOTALL)\n",
    "\n",
    "    return java_source_without_comments\n",
    "\n",
    "\n",
    "def bools(input_string):\n",
    "    pattern = r'((?:true|false)(?:\\s*,\\s*(?:true|false))*)'\n",
    "    match = re.search(pattern, input_string, re.IGNORECASE)\n",
    "\n",
    "    if match:\n",
    "        tokens = match.group(1).split(',')\n",
    "        return [b.strip().lower() == \"true\" for b in tokens]\n",
    "    else:\n",
    "        return []\n"
   ]
  },
  {
   "attachments": {},
   "cell_type": "markdown",
   "metadata": {},
   "source": [
    "## Parameters"
   ]
  },
  {
   "cell_type": "code",
   "execution_count": null,
   "metadata": {},
   "outputs": [],
   "source": [
    "# If True: do not call the API, just print the prompts\n",
    "only_print_prompt = False"
   ]
  },
  {
   "cell_type": "code",
   "execution_count": null,
   "metadata": {},
   "outputs": [],
   "source": [
    "secrets = read_ini_file('secrets.ini')\n",
    "# project_name = 'jhotdraw'\n",
    "# project_desc = 'A Java-based drawing framework and application that provides a collection of packages for creating, manipulating, and managing drawings in a graphical user interface.'\n",
    "project_name = 'k9-mail'\n",
    "project_desc = 'K-9 Mail is an open source email client for Android focused on making it easy to chew through large volumes of email.'\n"
   ]
  },
  {
   "attachments": {},
   "cell_type": "markdown",
   "metadata": {},
   "source": [
    "## Connect to neo4j\n",
    "\n",
    "To access knowledge graph extracted using javapers which is then loaded to neo4j graph database."
   ]
  },
  {
   "cell_type": "code",
   "execution_count": null,
   "metadata": {},
   "outputs": [],
   "source": [
    "graph = Graph(secrets['neo4j']['url'], auth=(secrets['neo4j']['username'], secrets['neo4j']['password']))"
   ]
  },
  {
   "attachments": {},
   "cell_type": "markdown",
   "metadata": {},
   "source": [
    "## Connect to openai"
   ]
  },
  {
   "cell_type": "code",
   "execution_count": null,
   "metadata": {},
   "outputs": [],
   "source": [
    "openai.api_key = secrets['openai']['apikey']\n",
    "model = \"gpt-4\"\n"
   ]
  },
  {
   "cell_type": "markdown",
   "metadata": {},
   "source": [
    "## Packages to be inspected"
   ]
  },
  {
   "cell_type": "code",
   "execution_count": null,
   "metadata": {},
   "outputs": [],
   "source": [
    "packages = { record['p']['qualifiedName'] for record in graph.run('match (p:Container)-[:contains]->(:Structure) where p.kind=\"package\" return p') }"
   ]
  },
  {
   "cell_type": "code",
   "execution_count": null,
   "metadata": {},
   "outputs": [],
   "source": [
    "len(packages), packages"
   ]
  },
  {
   "cell_type": "markdown",
   "metadata": {},
   "source": [
    "## Layer definitions"
   ]
  },
  {
   "cell_type": "code",
   "execution_count": null,
   "metadata": {},
   "outputs": [],
   "source": [
    "# layers = [{\n",
    "#   \"name\": \"Presentation\",\n",
    "#   \"responsibility\": \"This layer is responsible for the user interface and interaction with the outside world.\",\n",
    "#   \"characteristics\": [\n",
    "#     \"Classes should contain UI elements such as buttons, text fields, labels, etc.\",\n",
    "#     \"Event listeners and handlers for user input should be present.\",\n",
    "#     \"GUI layout code using Java's UI frameworks (e.g., JavaFX, Swing) is found here.\",\n",
    "#     \"User input validation logic can be part of this layer.\",\n",
    "#     \"Classes in this layer are concerned with the visual representation of data.\"]\n",
    "# },{\n",
    "#   \"name\": \"Application Services\",\n",
    "#   \"responsibility\": \"Coordinates responses to outside events, orchestrates high-level application logic.\",\n",
    "#   \"characteristics\": [\n",
    "#     \"Contains classes that manage the flow of the application.\",\n",
    "#     \"Coordinates interactions between different components of the application.\",\n",
    "#     \"Implements use cases and business logic by invoking methods from the domain layer.\",\n",
    "#     \"Manages the sequence of actions in response to user input or system events.\",\n",
    "#     \"Often contains classes related to navigation and routing between different parts of the application.\"]\n",
    "# },{\n",
    "#   \"name\": \"Domain Services\",\n",
    "#   \"responsibility\": \"Provides information and services that span the entire domain.\",\n",
    "#   \"characteristics\": [\n",
    "#     \"Contains classes that encapsulate domain logic and business rules.\",\n",
    "#     \"Represents core concepts of the application's problem domain.\",\n",
    "#     \"Contains domain-specific data structures and algorithms.\",\n",
    "#     \"Classes here should not have direct dependencies on UI or external systems.\",\n",
    "#     \"Handles complex domain-specific calculations and validations.\",\n",
    "#     \"Business logic that operates on domain objects can be found here.\"]\n",
    "# },{\n",
    "#   \"name\": \"Technical Services\",\n",
    "#   \"responsibility\": \"Provides technical services for connecting to external devices and programs.\",\n",
    "#   \"characteristics\": [\n",
    "#     \"Contains classes that manage low-level technical aspects such as network communication, file I/O, etc.\",\n",
    "#     \"Wraps interactions with external systems, libraries, or APIs.\",\n",
    "#     \"Abstracts away technical complexities from the rest of the application.\",\n",
    "#     \"Provides utility methods for tasks like data serialization, encryption, etc.\",\n",
    "#     \"Typically interfaces with hardware devices, databases, web services, etc.\"]\n",
    "# }]"
   ]
  },
  {
   "cell_type": "code",
   "execution_count": null,
   "metadata": {},
   "outputs": [],
   "source": [
    "# layers = [{\n",
    "#   \"name\": \"Presentation\",\n",
    "#   \"responsibility\": \"This layer is responsible for the user interface and interaction with the outside world.\",\n",
    "#   \"characteristics\": [\n",
    "#     \"create, initialize, or manage UI elements such as buttons, text fields, labels, etc.\",\n",
    "#     \"include event listeners and handlers for user input.\",\n",
    "#     \"define the layout of UI components using Java's UI frameworks like JavaFX or Swing.\",\n",
    "#     \"perform validation on user input and provide feedback.\",\n",
    "#     \"handle the transformation and display of data in a visually meaningful way.\"]\n",
    "# },{\n",
    "#   \"name\": \"Application Services\",\n",
    "#   \"responsibility\": \"Coordinates responses to outside events, orchestrates high-level application logic.\",\n",
    "#   \"characteristics\": [\n",
    "#     \"manage the overall flow of the application.\",\n",
    "#     \"coordinate interactions between different components.\",\n",
    "#     \"implement use cases and business logic by invoking domain layer methods.\",\n",
    "#     \"manage and execute a sequence of actions in response to events.\",\n",
    "#     \"handle navigation and routing between different parts of the application.\"]\n",
    "# },{\n",
    "#   \"name\": \"Domain Services\",\n",
    "#   \"responsibility\": \"Provides information and services that span the entire domain.\",\n",
    "#   \"characteristics\": [\n",
    "#     \"encapsulate specific domain logic and business rules.\",\n",
    "#     \"work with core concepts of the problem domain.\",\n",
    "#     \"utilize domain-specific data structures and algorithms.\",\n",
    "#     # \"not directly depend on UI or external systems.\",\n",
    "#     \"handle complex calculations and validations.\",\n",
    "#     \"implement business logic operating on domain objects.\"]\n",
    "# },{\n",
    "#   \"name\": \"Technical Services\",\n",
    "#   \"responsibility\": \"Provides technical services for connecting to external devices and programs.\",\n",
    "#   \"characteristics\": [\n",
    "#     \"manage low-level technical aspects such as network communication, file I/O, etc.\",\n",
    "#     \"wrap interactions with external systems, libraries, or APIs.\",\n",
    "#     \"abstract away technical complexities from the rest of the application.\",\n",
    "#     \"provide utility for tasks like data serialization, encryption, etc.\",\n",
    "#     \"interface with hardware devices, databases, web services, etc.\"]\n",
    "# }]"
   ]
  },
  {
   "cell_type": "code",
   "execution_count": null,
   "metadata": {},
   "outputs": [],
   "source": [
    "layers = [{\n",
    "  'name':'Presentation',\n",
    "  'responsibility':'is devoted to interfacing with the user',\n",
    "  'characteristics':[\n",
    "      \"Sets the arrtibutes of UI components, e.g., sets the text of a TextView.\",\n",
    "      \"Notifies listeners about user events, such as button clicks or list item selections.\",\n",
    "      \"Transforms domain objects into visual representations.\",\n",
    "      \"Performs validation on user input.\"\n",
    "  ]\n",
    "},\n",
    "{\n",
    "  'name':'Application Services',\n",
    "  'responsibility':'coordinates responses to outside events and orchestrates the high-level application logic',\n",
    "  'characteristics':[\n",
    "      \"Reacts to events, e.g., methods with name starting with 'on-' in a class that is called '-Listener'.\",\n",
    "      \"Handles application lifecycle events, e.g., saves application state when the app is paused.\",\n",
    "      \"Handles application navigation, e.g., switching Activities.\",\n",
    "      \"Manages the overall flow of the application.\"\n",
    "  ]\n",
    "},\n",
    "{\n",
    "  'name':'Domain Services',\n",
    "  'responsibility':\"provides information and services about the application's problem domain\",\n",
    "  'characteristics':[\n",
    "      \"Returns information about domain objects.\",\n",
    "      \"Creates or modifies domain objects.\",\n",
    "      \"Performs complex calculation or computation involving domain objects.\",\n",
    "      \"Manages a collection of or relationship between domain objects.\",\n",
    "  ]\n",
    "},\n",
    "{\n",
    "  'name':'Technical Services',\n",
    "  'responsibility':'connects to external devices and programs, e.g., for data persistence',\n",
    "  'characteristics': [\n",
    "      \"Interacts with databases or other persistence services, e.g., inserts a row into a SQLite database.\",\n",
    "      \"Performs network operations, e.g., sends a request to an email server.\",\n",
    "      \"Interacts with the file system, e.g., saves an email attachment to disk.\",\n",
    "      \"Uses Android's hardware-related APIs, e.g., checks if the device is connected to the internet.\",\n",
    "  ]\n",
    "}]"
   ]
  },
  {
   "cell_type": "code",
   "execution_count": null,
   "metadata": {},
   "outputs": [],
   "source": [
    "# print('In layered software architecture style, a software system is divided into 4 layers with different responsibilities:')\n",
    "# print()\n",
    "# for layer in layers:\n",
    "#   print(f'- The {layer[\"name\"]} layer {layer[\"responsibility\"]}.')\n",
    "# print()\n",
    "# print('If we consider an Android app written in Java, here are 5 characteristics of Java methods that may indicate that the class they belong to resides in each of the above layer:')\n"
   ]
  },
  {
   "cell_type": "markdown",
   "metadata": {},
   "source": [
    "# Presentation Layer\n",
    "\n",
    "1. Interacts with Android's UI components, such as TextView, Button, RecyclerView, etc. For example, a method that sets the text of a TextView.\n",
    "2. Handles user interactions, such as button clicks or list item selections. For example, a method annotated with @OnClick from the ButterKnife library.\n",
    "3. Navigates between different screens (Activities or Fragments). For example, a method that starts a new Activity.\n",
    "4. Updates the UI based on data changes. For example, a method that updates a RecyclerView when new data is loaded.\n",
    "5. Shows or hides UI elements. For example, a method that shows a ProgressBar when a long-running task is started.\n",
    "\n",
    "# Application Services Layer\n",
    "\n",
    "1. Coordinates different parts of the application. For example, a method that starts a background task and then updates the UI when the task is finished.\n",
    "2. Handles application lifecycle events. For example, a method that saves application state when the app is paused.\n",
    "3. Handles errors. For example, a method that catches an exception and then shows an error message to the user.\n",
    "4. Manages background tasks. For example, a method that starts a new Thread or uses an AsyncTask to perform a long-running task.\n",
    "5. Interacts with Android's system services. For example, a method that uses the NotificationManager to show a notification.\n",
    "\n",
    "# Domain Services Layer\n",
    "\n",
    "1. Interacts with email-related objects. For example, a method that creates a new Email object.\n",
    "2. Performs operations related to the email domain. For example, a method that sends an email or marks an email as read.\n",
    "3. Validates email-related data. For example, a method that checks if an email address is valid.\n",
    "4. Manages relationships between email-related objects. For example, a method that adds an Email to a Folder.\n",
    "5. Handles email-related errors. For example, a method that catches an exception when an email can't be sent.\n",
    "\n",
    "# Technical Services Layer\n",
    "\n",
    "1. Interacts with databases. For example, a method that inserts a row into a SQLite database.\n",
    "2. Performs network operations. For example, a method that sends a HTTP request to an email server.\n",
    "3. Interacts with the file system. For example, a method that saves an email attachment to disk.\n",
    "4. Uses Android's hardware-related APIs. For example, a method that checks if the device is connected to the internet.\n",
    "5. Handles technical errors. For example, a method that catches an IOException when a network operation fails."
   ]
  },
  {
   "cell_type": "markdown",
   "metadata": {},
   "source": [
    "# Presentation Layer\n",
    "\n",
    "- Characteristic 1: Interacts with Android's UI components, such as TextView, Button, RecyclerView, etc. For example, a method that sets the text of a TextView.\n",
    "- Characteristic 2: Handles user interactions, such as button clicks or list item selections. For example, a method annotated with @OnClick from the ButterKnife library.\n",
    "- Characteristic 3: Navigates between different screens (Activities or Fragments). For example, a method that starts a new Activity.\n",
    "- Characteristic 4: Updates the UI based on data changes. For example, a method that updates a RecyclerView when new data is loaded.\n",
    "- Characteristic 5: Shows or hides UI elements. For example, a method that shows a ProgressBar when a long-running task is started.\n",
    "\n",
    "# Application Services Layer\n",
    "\n",
    "- Characteristic 1: Coordinates different parts of the application. For example, a method that starts a background task and then updates the UI when the task is finished.\n",
    "- Characteristic 2: Handles application lifecycle events. For example, a method that saves application state when the app is paused.\n",
    "- Characteristic 3: Handles errors. For example, a method that catches an exception and then shows an error message to the user.\n",
    "\n",
    "# Domain Services Layer\n",
    "\n",
    "- Characteristic 1: Methods in this layer may be responsible for providing domain-specific functionality. For example, a method that composes various parts of an email message into a single structure.\n",
    "- Characteristic 2: Methods in this layer may be responsible for validating domain-specific rules. For example, a method that checks if a piece of string is a valid email address.\n",
    "- Characteristic 3: Methods in this layer may be responsible for transforming data. For example, a method that converts a list of messages into a list of message view models.\n",
    "- Characteristic 4: Methods in this layer may be responsible for managing domain-specific state. For example, a method that updates the current user's email signature.\n",
    "- Characteristic 5: Methods in this layer may be responsible for interacting with domain-specific external services. For example, a method that sends a payment to a payment gateway.\n",
    "\n",
    "# Technical Services Layer\n",
    "\n",
    "- Characteristic 1: Methods in this layer may be responsible for interacting with the file system. For example, a method that saves a file to disk.\n",
    "- Characteristic 2: Methods in this layer may be responsible for interacting with the network. For example, a method that sends a HTTP request.\n",
    "- Characteristic 3: Methods in this layer may be responsible for interacting with the database. For example, a method that queries the database for a list of products.\n",
    "- Characteristic 4: Methods in this layer may be responsible for interacting with hardware devices. For example, a method that reads data from a sensor.\n",
    "- Characteristic 5: Methods in this layer may be responsible for handling low-level details. For example, a method that encodes a string into a specific character set."
   ]
  },
  {
   "cell_type": "code",
   "execution_count": null,
   "metadata": {},
   "outputs": [],
   "source": [
    "layers = [\n",
    "\t{\n",
    "\t\t\"name\":\"Presentation Layer\",\n",
    "\t\t\"class_characteristics\": [\n",
    "\t\t\t\"contains fields that represent UI objects such as buttons and text fields\",\n",
    "\t\t\t\"defines a UI markup template with markers of where to put data from model\",\n",
    "\t\t],\n",
    "\t\t\"method_characteristics\": [\n",
    "\t\t\t\"sets the attribute of UI objects based on information from other objects\",\n",
    "\t\t\t\"arranges UI objects in a particular layout\",\n",
    "\t\t\t\"observes changes in a data model and updates UI objects accordingly\",\n",
    "\t\t\t\"reacts to UI events by creating or invoking data model objects\",\n",
    "\t\t\t\"determines how to update a view according to the result of data model process result\",\n",
    "\t\t\t\"reacts to UI events by deciding what kind of action to initiate and delegates to a command to carry out the action \",\n",
    "\t\t\t\"recognizes domain data and invokes the appropriate rendering transformations\",\n",
    "\t\t\t\"processes domain data element by element and transforms it into visual representation\",\n",
    "\t\t\t\"assembles model information in a presentation-oriented logical structure\",\n",
    "\t\t\t\"renders a presentation-oriented structure in a view markup\", \n",
    "\t\t]\n",
    "\t},\n",
    "\t{\n",
    "\t\t\"name\":\"Service Layer\",\n",
    "\t\t\"class_characteristics\": [\n",
    "\t\t\t\"establishes a set of avaliable domain operations\",\n",
    "\t\t\t\"provides a coarse-grained interface that delegates to/coordinates finer-grained interfaces\",\n",
    "\t\t],\n",
    "\t\t\"method_characteristics\": [\n",
    "\t\t\t\"responds to user input, manipulates the model, and causes the view to update appropriately\",\n",
    "\t\t\t\"decides which domain logic to run upon an event\",\n",
    "\t\t\t\"decides the view with which to display the result of a domain operation\",\n",
    "\t\t\t\"encapsulates business logic \",\n",
    "\t\t\t\"controls transactions and coordinates responses in the implementation of its operations\",\n",
    "\t\t\t\"wraps several calls to a domain model within one method\",\n",
    "\t\t]\n",
    "\t},\n",
    "\t{\n",
    "\t\t\"name\":\"Domain Layer\",\n",
    "\t\t\"class_characteristics\": [\n",
    "\t\t\t\"organizes business logic by procedures where each procedure handles a single request from the presentation\",\n",
    "\t\t\t\"handles the business logic for all rows in a database table or view\",\n",
    "\t\t\t\"groups data model with behavior that acts on that data\",\n",
    "\t\t\t\"represents a tabular data\",\n",
    "\t\t\t\"represents a serializable data\",\n",
    "\t\t\t\"consists of fields and getters and setters\",\n",
    "\t\t\t\"has simple or primitive fields\",\n",
    "\t\t],\n",
    "\t\t\"method_characteristics\": [\n",
    "\t\t\t\"makes calls to the data source\",\n",
    "\t\t\t\"represents some meaningful business rules or logic\",\n",
    "\t\t\t\"assembles information from multiple domain objects\",\n",
    "\t\t]\n",
    "\t},\n",
    "\t{\n",
    "\t\t\"name\":\"Data Source Layer\",\n",
    "\t\t\"class_characteristics\": [\n",
    "\t\t\t\"represents a single data record\",\n",
    "\t\t\t\"acts as a gateway to a data source\",\n",
    "\t\t\t\"has a simple interface consisting find, update, insert, and delete methods\",\n",
    "\t\t\t\"maintains a list of objects affected by a  transaction and coordinates the writing out of changes\",\n",
    "\t\t\t\"maintains an identity map to see which objects are already loaded from the data source\",\n",
    "\t\t\t\"wraps a record in a data source, encapsulates the data source access, and adds domain logic on that data\",\n",
    "\t\t\t\"is responsible for saving and loading to the data source and also for any domain logic that acts on the data\",\n",
    "\t\t],\n",
    "\t\t\"method_characteristics\": [\n",
    "\t\t\t\"performs conversion from data source-type to in-memory representation\",\n",
    "\t\t\t\"contains operations for insert/update/delete to a data source\",\n",
    "\t\t\t\"finds information from a data source and returns its representation\",\n",
    "\t\t\t\"returns a tabular data\",\n",
    "\t\t\t\"bundles changes to a data source as a single transaction\",\n",
    "\t\t\t\"performs inconsistency checking before commiting changes to a data source\",\n",
    "\t\t\t\"maps an object from the data source to an equivalent model object\",\n",
    "\t\t]\n",
    "\t},\n",
    "]"
   ]
  },
  {
   "cell_type": "code",
   "execution_count": null,
   "metadata": {},
   "outputs": [],
   "source": [
    "layers"
   ]
  },
  {
   "cell_type": "code",
   "execution_count": null,
   "metadata": {},
   "outputs": [],
   "source": [
    "for layer in layers:\n",
    "  print(f\"**{layer['name']} Layer** {layer['responsibility']}\")\n",
    "  for indicator in layer['characteristics']:\n",
    "    print(f',\"{indicator}\"')"
   ]
  },
  {
   "cell_type": "code",
   "execution_count": null,
   "metadata": {},
   "outputs": [],
   "source": [
    "def something() -> None:\n",
    "  print('something')\n",
    "\n",
    "something()"
   ]
  },
  {
   "attachments": {},
   "cell_type": "markdown",
   "metadata": {},
   "source": [
    "## Ask LLM to evaluate layer characteristics"
   ]
  },
  {
   "cell_type": "code",
   "execution_count": null,
   "metadata": {},
   "outputs": [],
   "source": [
    "# goals = read_json_file(f\"paper/{project_name}-goals_1.json\")\n",
    "# goals"
   ]
  },
  {
   "cell_type": "code",
   "execution_count": null,
   "metadata": {},
   "outputs": [],
   "source": [
    "prompt_template = '''In layered software architecture, one of the layer is the {layer_name} Layer, which {layer_responsibility}.\n",
    "\n",
    "Consider the context of an Android Java project \"{project_name}\": {project_desc}\n",
    "\n",
    "Here are some indicators that a Java method in the project may belong to a class in the {layer_name} layer:\n",
    "\n",
    "{layer_characteristics}\n",
    "\n",
    "The {class_type} `{class_name}` contains the method `{method_name}`:\n",
    "\n",
    "```java\n",
    "{method_src}\n",
    "```\n",
    "\n",
    "Check whether this method satisfies each indicator above. Mention the specific line of code that supports your reason. At the very last line, write the boolean verdicts separated by comma, e.g.: `true, true, false, true`. If indeterminate, say `false`.'''\n",
    "\n",
    "print(prompt_template)"
   ]
  },
  {
   "cell_type": "code",
   "execution_count": null,
   "metadata": {},
   "outputs": [],
   "source": [
    "prompt_template = '''Consider the context of an Android Java project \"{project_name}\": {project_desc}.\n",
    "\n",
    "The {class_type} `{class_name}` contains the method `{method_name}`:\n",
    "\n",
    "```java\n",
    "{method_src}\n",
    "```\n",
    "\n",
    "Which of the following statements could reflect the above method? There can be 0, 1, or more answers.\n",
    "\n",
    "{method_characteristics}\n",
    "\n",
    "Think step by step. At the end of your response, provide a line of boolean values, e.g., `true, false, true, ...` if statements 1 and 3 reflect the method in question.\n",
    "'''"
   ]
  },
  {
   "cell_type": "code",
   "execution_count": null,
   "metadata": {},
   "outputs": [],
   "source": [
    "\n",
    "num_methods = 0\n",
    "\n",
    "samples = dict()\n",
    "\n",
    "for pkg_name in sorted(list(packages)):\n",
    "\n",
    "  classes = [ record['c'] for record in graph.run('MATCH (p:Container)-[:contains]->(c:Structure) '\n",
    "                                                                   f'WHERE p.qualifiedName=\"{pkg_name}\" AND p.kind=\"package\" '\n",
    "                                                                   'RETURN c') ]\n",
    "  top_classes = [c for c in classes if not '$' in c['qualifiedName']]\n",
    "  class_samples = random.sample(top_classes, min(len(top_classes),3))\n",
    "  \n",
    "  samples[pkg_name] = dict()\n",
    "  for clss in class_samples:\n",
    "\n",
    "    class_name = clss['qualifiedName']\n",
    "    kind = clss['kind']\n",
    "    methods = [ record['m'] for record in graph.run('MATCH (c:Structure)-[:hasScript]->(m:Operation) '\n",
    "                                                    f'WHERE c.qualifiedName=\"{class_name}\" AND m.visibility=\"public\" AND m.kind=\"method\" '\n",
    "                                                    'return m') ]\n",
    "    ok_methods = [m for m in methods if 300<len(m['sourceText'])<3000]\n",
    "    method_samples = random.sample(ok_methods, min(len(ok_methods),10))\n",
    "    # print(len(method_samples), [(clss['qualifiedName'], m['simpleName']) for m in method_samples])\n",
    "    num_methods += len(method_samples)\n",
    "\n",
    "    samples[pkg_name][class_name] = method_samples\n",
    "print(samples)\n"
   ]
  },
  {
   "cell_type": "code",
   "execution_count": null,
   "metadata": {},
   "outputs": [],
   "source": [
    "num_methods"
   ]
  },
  {
   "cell_type": "code",
   "execution_count": null,
   "metadata": {},
   "outputs": [],
   "source": [
    "write_dict_to_json(samples, 'k9mail-samples.json')"
   ]
  },
  {
   "cell_type": "code",
   "execution_count": null,
   "metadata": {},
   "outputs": [],
   "source": [
    "samples = read_json_file('k9mail-samples.json')\n",
    "samples"
   ]
  },
  {
   "cell_type": "code",
   "execution_count": null,
   "metadata": {},
   "outputs": [],
   "source": [
    "only_print_prompt = False"
   ]
  },
  {
   "cell_type": "code",
   "execution_count": null,
   "metadata": {},
   "outputs": [],
   "source": [
    "results = dict()\n",
    "kind = 'class'\n",
    "for pkg_name in samples.keys():\n",
    "  results[pkg_name] = dict()\n",
    "  for class_name in samples[pkg_name].keys():\n",
    "    results[pkg_name][class_name] = dict()\n",
    "    for method in samples[pkg_name][class_name]:\n",
    "      method_name = method['simpleName']\n",
    "      results[pkg_name][class_name][method_name] = dict()\n",
    "      print(\"#\", pkg_name, class_name, method_name)\n",
    "      print()\n",
    "      print(method['sourceText'])\n",
    "      print()\n",
    "      for layer in layers:\n",
    "        print(f'## {layer[\"name\"]}')\n",
    "        print()\n",
    "        prompt = prompt_template.format(\n",
    "            layer_name=layer[\"name\"],\n",
    "            layer_responsibility=layer[\"responsibility\"],\n",
    "            layer_characteristics=\"\\n\".join(\n",
    "                [f\"  {i+1}. {layer['characteristics'][i]}\" for i in range(len(layer[\"characteristics\"]))]),\n",
    "            project_name=project_name,\n",
    "            project_desc=project_desc,\n",
    "            class_type=kind,\n",
    "            class_name=class_name,\n",
    "            method_name=method_name,\n",
    "            # method_desc = goals[pkg_name]['classes'][row[\"c.qualifiedName\"]]['methods'][method_name]['description'],\n",
    "            method_src=remove_java_comments(method[\"sourceText\"]))\n",
    "        if only_print_prompt:\n",
    "          print(prompt)\n",
    "          print()\n",
    "        else:\n",
    "          response = None\n",
    "          try:\n",
    "            response = openai.ChatCompletion.create(\n",
    "                model=model,\n",
    "                messages=[{\n",
    "                    \"role\": \"user\",\n",
    "                    \"content\": prompt\n",
    "                },{\n",
    "                  \"role\": \"assistant\",\n",
    "                  \"content\": \"1.\"\n",
    "                }],\n",
    "                temperature=0)\n",
    "            answer = response['choices'][0]['message']['content']\n",
    "            results[pkg_name][class_name][method_name][layer['name']] = bools(answer.split('\\n')[-1])\n",
    "          except:\n",
    "            answer = None\n",
    "            print(response)\n",
    "            results[pkg_name][class_name][method_name][layer['name']] = []\n",
    "          print(answer)\n",
    "          print()\n",
    "\n",
    "      print(dict_to_pretty_json(results[pkg_name][class_name][method_name]))\n",
    "      print()\n",
    "      # break\n",
    "    print(dict_to_pretty_json(results[pkg_name][class_name]))\n",
    "    print()\n",
    "    # break\n",
    "  print(dict_to_pretty_json(results[pkg_name]))\n",
    "  print()\n",
    "  # break\n",
    "print(dict_to_pretty_json(results))\n",
    "    #         class_desc['methods'][method_name] = method_goal\n",
    "    #   print(\"  \" + str(goals[pkg_name]['classes'][class_name]))\n",
    "    # print(str(goals[pkg_name]))\n",
    "    # print()\n",
    "# print(dict_to_pretty_json(goals))\n",
    "\n",
    "print(num_methods)\n"
   ]
  },
  {
   "cell_type": "code",
   "execution_count": null,
   "metadata": {},
   "outputs": [],
   "source": [
    "if not only_print_prompt:\n",
    "  write_dict_to_json(results, f\"{project_name}-layers_1.json\")"
   ]
  },
  {
   "cell_type": "code",
   "execution_count": null,
   "metadata": {},
   "outputs": [],
   "source": [
    "sum([len(clss) for pkg in results for clss in results[pkg]])"
   ]
  },
  {
   "cell_type": "code",
   "execution_count": null,
   "metadata": {},
   "outputs": [],
   "source": [
    "def sum_tuples_by_index(input_list,key_idx,start_idx,end_idx):\n",
    "    result_dict = {}\n",
    "\n",
    "    for tup in input_list:\n",
    "        key = tup[key_idx]\n",
    "        if key in result_dict:\n",
    "            # If the key is already in the dictionary, add the values element-wise\n",
    "            result_dict[key] = tuple(sum(x) for x in zip(result_dict[key], tup[start_idx:end_idx]))\n",
    "        else:\n",
    "            # If the key is not in the dictionary, add it with the tuple as the value\n",
    "            result_dict[key] = tup[start_idx:end_idx]\n",
    "\n",
    "    # Convert the dictionary values back to a list of tuples\n",
    "    result_list = list([(a,*b) for a,b in result_dict.items()])\n",
    "\n",
    "    return result_list\n",
    "\n",
    "\n",
    "# Test the function with your example input\n",
    "input_list = [('a', 1, 0, 1), ('a', 0, 0, 1), ('b', 0, 1, 0), ('b', 0, 1, 1)]\n",
    "result = sum_tuples_by_index(input_list, 0, 1, 4)\n",
    "print(result)\n"
   ]
  },
  {
   "cell_type": "code",
   "execution_count": null,
   "metadata": {},
   "outputs": [],
   "source": [
    "def find_index_of_max_value(input_list):\n",
    "    if not input_list:\n",
    "        # Handle the case where the list is empty\n",
    "        return None\n",
    "\n",
    "    max_value = input_list[0]\n",
    "    max_index = 0\n",
    "\n",
    "    for i in range(1, len(input_list)):\n",
    "        if input_list[i] > max_value:\n",
    "            max_value = input_list[i]\n",
    "            max_index = i\n",
    "\n",
    "    return max_index\n",
    "\n",
    "\n",
    "# Test the function with your example list\n",
    "my_list = [1, 0, 5, 3]\n",
    "index_of_max = find_index_of_max_value(my_list)\n",
    "print(\"Index of the largest value:\", index_of_max)\n"
   ]
  },
  {
   "cell_type": "code",
   "execution_count": null,
   "metadata": {},
   "outputs": [],
   "source": [
    "layer_names = [layer['name'] for layer in layers]\n",
    "layer_names"
   ]
  },
  {
   "cell_type": "code",
   "execution_count": null,
   "metadata": {},
   "outputs": [],
   "source": [
    "print('package,class,method,p1,p2,p3,p4,a1,a2,a3,a4,d1,d2,d3,d4,t1,t2,t3,t4,p,a,d,t')\n",
    "tuples = []\n",
    "\n",
    "for pkg in results:\n",
    "  for clss in results[pkg]:\n",
    "    for method in results[pkg][clss]:\n",
    "      chs = []\n",
    "      for layer in layers:\n",
    "        ch = [0]*4\n",
    "        # print(results[pkg][clss][method][layer['name']])\n",
    "        for i,b in enumerate(results[pkg][clss][method][layer['name']]):\n",
    "          ch[i] = 1 if b else 0\n",
    "        chs.append(ch)\n",
    "      sums = [1 if sum(row) else 0 for row in chs]\n",
    "      # verdict = layer_names[find_index_of_max_value(sums)]\n",
    "      tup = (pkg, clss, f'\"{method}\"', *[item for row in chs for item in row], *sums)\n",
    "      print(*tup, sep=\",\")\n",
    "      tuples.append(tup)"
   ]
  },
  {
   "cell_type": "code",
   "execution_count": null,
   "metadata": {},
   "outputs": [],
   "source": [
    "class_layers = sum_tuples_by_index(tuples,1,3,19)\n",
    "print('class,p1,p2,p3,p4,a1,a2,a3,a4,d1,d2,d3,d4,t1,t2,t3,t4')\n",
    "for tup in class_layers:\n",
    "  print(*tup, sep=\",\")\n"
   ]
  },
  {
   "cell_type": "code",
   "execution_count": null,
   "metadata": {},
   "outputs": [],
   "source": [
    "class_layers = sum_tuples_by_index(tuples, 1, 19, 23)\n",
    "print('class,p,a,d,t')\n",
    "for tup in class_layers:\n",
    "  print(*tup, sep=\",\")\n"
   ]
  }
 ],
 "metadata": {
  "kernelspec": {
   "display_name": "default",
   "language": "python",
   "name": "python3"
  },
  "language_info": {
   "codemirror_mode": {
    "name": "ipython",
    "version": 3
   },
   "file_extension": ".py",
   "mimetype": "text/x-python",
   "name": "python",
   "nbconvert_exporter": "python",
   "pygments_lexer": "ipython3",
   "version": "3.10.8"
  },
  "orig_nbformat": 4
 },
 "nbformat": 4,
 "nbformat_minor": 2
}
