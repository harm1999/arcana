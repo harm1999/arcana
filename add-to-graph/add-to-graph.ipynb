{
 "cells": [
  {
   "cell_type": "code",
   "execution_count": 1,
   "metadata": {},
   "outputs": [],
   "source": [
    "import csv\n",
    "\n",
    "def update_dict_with_csv(data_dict, csv_data):\n",
    "    # Read CSV data\n",
    "    csv_reader = csv.reader(csv_data.splitlines())\n",
    "    header = next(csv_reader)  # Read the header row\n",
    "\n",
    "    # Iterate over each row in the CSV data\n",
    "    for row in csv_reader:\n",
    "        node_id = row[0]  # First column is assumed to be the node ID\n",
    "        other_values = row[1:]  # Other columns are assumed to be properties\n",
    "\n",
    "        # Find the node with matching ID\n",
    "        for node in data_dict['elements']['nodes']:\n",
    "            if node['data']['id'] == node_id:\n",
    "                # Update node properties dynamically based on CSV header\n",
    "                for i, column_name in enumerate(header[1:]):  # Skip the first column (ID)\n",
    "                    node['data']['properties'][column_name] = other_values[i]\n",
    "                break\n",
    "\n",
    "    return data_dict\n"
   ]
  },
  {
   "cell_type": "code",
   "execution_count": 2,
   "metadata": {},
   "outputs": [],
   "source": [
    "# Example usage\n",
    "import json\n",
    "\n",
    "with open('D:/Research/javapers/sample_output/jpacman-detailed.json', 'r') as json_file:\n",
    "    json_data = json.load(json_file)\n",
    "\n",
    "with open('jpacman-descriptions.csv', 'r') as csv_file:\n",
    "    csv_data = csv_file.read()\n",
    "\n",
    "updated_data_dict = update_dict_with_csv(json_data, csv_data)\n",
    "\n",
    "# Write updated data to a JSON file\n",
    "with open('jpacman-detailed-sum.json', 'w') as json_output_file:\n",
    "    json.dump(updated_data_dict, json_output_file, indent=2)\n"
   ]
  }
 ],
 "metadata": {
  "kernelspec": {
   "display_name": "default",
   "language": "python",
   "name": "python3"
  },
  "language_info": {
   "codemirror_mode": {
    "name": "ipython",
    "version": 3
   },
   "file_extension": ".py",
   "mimetype": "text/x-python",
   "name": "python",
   "nbconvert_exporter": "python",
   "pygments_lexer": "ipython3",
   "version": "3.10.8"
  }
 },
 "nbformat": 4,
 "nbformat_minor": 2
}
