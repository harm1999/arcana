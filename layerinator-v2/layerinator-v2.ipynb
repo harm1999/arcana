{
 "cells": [
  {
   "cell_type": "code",
   "execution_count": null,
   "metadata": {},
   "outputs": [],
   "source": [
    "# %pip install --upgrade py2neo\n",
    "# %pip install --upgrade openai"
   ]
  },
  {
   "cell_type": "code",
   "execution_count": null,
   "metadata": {},
   "outputs": [],
   "source": [
    "from py2neo import Graph\n"
   ]
  },
  {
   "cell_type": "code",
   "execution_count": null,
   "metadata": {},
   "outputs": [],
   "source": [
    "from itertools import groupby"
   ]
  },
  {
   "cell_type": "code",
   "execution_count": null,
   "metadata": {},
   "outputs": [],
   "source": [
    "import json\n",
    "\n",
    "\n",
    "def read_json_file(file_path):\n",
    "    with open(file_path, 'r') as file:\n",
    "        data = json.load(file)\n",
    "    return data\n",
    "\n",
    "\n",
    "def parse_json(json_string):\n",
    "  json_dict = json.loads(json_string)\n",
    "  return json_dict\n",
    "\n",
    "\n",
    "def dict_to_pretty_json(dictionary):\n",
    "  pretty_json = json.dumps(dictionary, indent=2)\n",
    "  return pretty_json\n",
    "\n",
    "\n",
    "def write_dict_to_json(dictionary, file_path):\n",
    "  with open(file_path, 'w') as json_file:\n",
    "    json.dump(dictionary, json_file, indent=2)\n"
   ]
  },
  {
   "cell_type": "code",
   "execution_count": null,
   "metadata": {},
   "outputs": [],
   "source": [
    "import configparser\n",
    "\n",
    "def read_ini_file(file_path):\n",
    "    config = configparser.ConfigParser()\n",
    "    config.read(file_path)\n",
    "    ini_dict = {section: dict(config.items(section))\n",
    "                for section in config.sections()}\n",
    "    return ini_dict\n"
   ]
  },
  {
   "cell_type": "code",
   "execution_count": null,
   "metadata": {},
   "outputs": [],
   "source": [
    "from openai import OpenAI"
   ]
  },
  {
   "cell_type": "code",
   "execution_count": null,
   "metadata": {},
   "outputs": [],
   "source": [
    "import re\n",
    "\n",
    "\n",
    "def remove_java_comments(java_source):\n",
    "    # Regular expression to match Java comments (both single-line and multi-line)\n",
    "    pattern = r\"(//.*?$)|(/\\*.*?\\*/)\"\n",
    "\n",
    "    # Remove comments using the regular expression\n",
    "    java_source_without_comments = re.sub(\n",
    "        pattern, \"\", java_source, flags=re.MULTILINE | re.DOTALL)\n",
    "\n",
    "    return java_source_without_comments\n"
   ]
  },
  {
   "cell_type": "code",
   "execution_count": null,
   "metadata": {},
   "outputs": [],
   "source": [
    "def sentence(s):\n",
    "  '''\n",
    "  Capitalize the first letter of a string `s` and ensures that the string \n",
    "  ends with a period (if it's not already a sentence-ending punctuation).\n",
    "  '''\n",
    "  t = s.strip()\n",
    "  if t[-1] in '.?!…~–—':\n",
    "    return f'{t[0].upper()}{t[1:]}'\n",
    "  else:\n",
    "    return f'{t[0].upper()}{t[1:]}.'\n",
    "  \n",
    "sentence(' hello world~  ')"
   ]
  },
  {
   "cell_type": "markdown",
   "metadata": {},
   "source": [
    "## Parameters"
   ]
  },
  {
   "cell_type": "code",
   "execution_count": null,
   "metadata": {},
   "outputs": [],
   "source": [
    "# If True: do not call the API, just print the prompts\n",
    "only_print_prompt = False"
   ]
  },
  {
   "cell_type": "code",
   "execution_count": null,
   "metadata": {},
   "outputs": [],
   "source": [
    "secrets = read_ini_file('secrets.ini')\n",
    "project_name = secrets['project']['name']\n",
    "project_name"
   ]
  },
  {
   "cell_type": "code",
   "execution_count": null,
   "metadata": {},
   "outputs": [],
   "source": [
    "project_desc = 'an open source email client for Android focused on making it easy to chew through large volumes of email'"
   ]
  },
  {
   "cell_type": "markdown",
   "metadata": {},
   "source": [
    "## Connect to neo4j\n",
    "\n",
    "To access knowledge graph extracted using javapers which is then loaded to neo4j graph database."
   ]
  },
  {
   "cell_type": "code",
   "execution_count": null,
   "metadata": {},
   "outputs": [],
   "source": [
    "graph = Graph(secrets['neo4j']['url'], auth=(secrets['neo4j']['username'], secrets['neo4j']['password']))"
   ]
  },
  {
   "cell_type": "markdown",
   "metadata": {},
   "source": [
    "## Connect to openai"
   ]
  },
  {
   "cell_type": "code",
   "execution_count": null,
   "metadata": {},
   "outputs": [],
   "source": [
    "args = dict()\n",
    "\n",
    "if 'apikey' in secrets['openai']:\n",
    "  args['api_key'] = secrets['openai']['apikey']\n",
    "if 'apibase' in secrets['openai']:\n",
    "  args['base_url'] = secrets['openai']['apibase']\n",
    "if 'model' in secrets['openai']:\n",
    "  model = secrets['openai']['model']\n",
    "else:\n",
    "  model = \"gpt-3.5-turbo\"\n",
    "\n",
    "(args['base_url'], model)"
   ]
  },
  {
   "cell_type": "code",
   "execution_count": null,
   "metadata": {},
   "outputs": [],
   "source": [
    "client = OpenAI(**args)\n",
    "client.base_url"
   ]
  },
  {
   "cell_type": "code",
   "execution_count": null,
   "metadata": {},
   "outputs": [],
   "source": [
    "# test the LLM server---create a completion\n",
    "completion = client.chat.completions.create(\n",
    "  model=model,\n",
    "  messages=[{\"role\":\"user\",\"content\":\"What is your name?\"}],\n",
    "  temperature=0\n",
    ")\n",
    "# print the completion\n",
    "print(completion.choices[0].message.content)"
   ]
  },
  {
   "cell_type": "code",
   "execution_count": null,
   "metadata": {},
   "outputs": [],
   "source": [
    "prompt1_template = '''Here are the layers in a layered software architecture and their responsibilities:\n",
    "\n",
    "1. **Presentation Layer**: Manages the user interface, including defining UI elements and their behavior, displays information, reacting to user input, and updating UI views accordingly.\n",
    "  \n",
    "2. **Service Layer**: Orchestrates domain operations, encapsulates business logic, selects the appropriate business logic for a user request, and coordinates responses between the presentation and domain layers.\n",
    "\n",
    "3. **Domain Layer**: Organizes and implements business logic, represents domain data and its behavior, and carries out the necessary computation for responding to user requests.\n",
    "\n",
    "4. **Data Source Layer**: Communicates with databases, messaging systems, or other sources of data, performs CRUD operations, handles data conversion, and ensures data integrity before committing changes to the data source.\n",
    "\n",
    "Consider the following Java method from {project_desc}:\n",
    "\n",
    "```java\n",
    "{method_src}\n",
    "```\n",
    "\n",
    "Reason about whether this method fits with each of the layers above. Think step by step. First, summarize what is the responsibility of the method. Then compare it to the layers above.'''\n",
    "\n",
    "prompt2 = \"In conclusion, state a single layer that you think fits this method the most. Just answer with the name of the layer and nothing else.\""
   ]
  },
  {
   "cell_type": "code",
   "execution_count": null,
   "metadata": {},
   "outputs": [],
   "source": [
    "packages = { record['p']['qualifiedName'] for record in graph.run('match (p:Container)-[:contains]->(:Structure) where p.kind=\"package\" return p') }"
   ]
  },
  {
   "cell_type": "code",
   "execution_count": null,
   "metadata": {},
   "outputs": [],
   "source": [
    "len(packages), packages"
   ]
  },
  {
   "cell_type": "code",
   "execution_count": null,
   "metadata": {},
   "outputs": [],
   "source": [
    "num_methods = 0\n",
    "\n",
    "samples = dict()\n",
    "\n",
    "for pkg_name in sorted(list(packages)):\n",
    "    classes = [ record['c'] for record in graph.run('MATCH (p:Container)-[:contains]->(c:Structure) '\n",
    "                                                                    f'WHERE p.qualifiedName=\"{pkg_name}\" AND p.kind=\"package\" '\n",
    "                                                                    'RETURN c') ]\n",
    "    # top_classes = [c for c in classes if not '$' in c['qualifiedName']]\n",
    "    # class_samples = random.sample(top_classes, min(len(top_classes),3))\n",
    "    \n",
    "    samples[pkg_name] = dict()\n",
    "    for clss in classes:\n",
    "\n",
    "      class_name = clss['qualifiedName']\n",
    "      kind = clss['kind']\n",
    "      methods = [ record['m'] for record in graph.run('MATCH (c:Structure)-[:hasScript]->(m:Operation) '\n",
    "                                                      f'WHERE c.qualifiedName=\"{class_name}\" AND m.visibility=\"public\" AND m.kind=\"method\" '\n",
    "                                                      'return m') ]\n",
    "    #   ok_methods = [m for m in methods if 300<len(m['sourceText'])<3000]\n",
    "    #   method_samples = random.sample(ok_methods, min(len(ok_methods),10))\n",
    "      # print(len(method_samples), [(clss['qualifiedName'], m['simpleName']) for m in method_samples])\n",
    "      num_methods += len(methods)\n",
    "\n",
    "      samples[pkg_name][class_name] = methods\n",
    "# print(samples)\n",
    "num_methods"
   ]
  },
  {
   "cell_type": "code",
   "execution_count": null,
   "metadata": {},
   "outputs": [],
   "source": [
    "samples.keys()"
   ]
  },
  {
   "cell_type": "code",
   "execution_count": null,
   "metadata": {},
   "outputs": [],
   "source": [
    "samples['com.fsck.k9.ui']"
   ]
  },
  {
   "cell_type": "code",
   "execution_count": null,
   "metadata": {},
   "outputs": [],
   "source": [
    "only_print_prompt = False"
   ]
  },
  {
   "cell_type": "code",
   "execution_count": null,
   "metadata": {},
   "outputs": [],
   "source": [
    "import time\n",
    "\n",
    "timestr = time.strftime(\"%Y%m%d-%H%M%S\")\n",
    "timestr"
   ]
  },
  {
   "cell_type": "code",
   "execution_count": null,
   "metadata": {},
   "outputs": [],
   "source": [
    "with open(f'layerinator-{timestr}.log', 'a') as file:\n",
    "\n",
    "  results = dict()\n",
    "  kind = 'class'\n",
    "  for pkg_name in samples.keys():\n",
    "    results[pkg_name] = dict()\n",
    "    for class_name in samples[pkg_name].keys():\n",
    "      results[pkg_name][class_name] = dict()\n",
    "      for method in samples[pkg_name][class_name]:\n",
    "        method_name = method['simpleName']\n",
    "        results[pkg_name][class_name][method_name] = dict()\n",
    "        file.write(f\"# {pkg_name}, {class_name}, {method_name}\")\n",
    "        file.write(\"\\n\\n\")\n",
    "        \n",
    "        prompt1 = prompt1_template.format(\n",
    "          project_desc=project_desc,\n",
    "          method_src=method[\"sourceText\"]\n",
    "        )\n",
    "        if only_print_prompt:\n",
    "          file.write(prompt1)\n",
    "          file.write(\"\\n\\n\")\n",
    "        else:\n",
    "          response = None\n",
    "          try:\n",
    "            response = client.chat.completions.create(\n",
    "                model=model,\n",
    "                messages=[{\n",
    "                  \"role\": \"user\",\n",
    "                  \"content\": prompt1\n",
    "                }],\n",
    "                temperature=0)\n",
    "            ast_message = response.choices[0].message\n",
    "            \n",
    "            file.write(\"[USER]\\n\\n\")\n",
    "            file.write(prompt1)\n",
    "            file.write(\"\\n\\n\")\n",
    "            file.write(\"[LLM]\\n\\n\")\n",
    "            file.write(ast_message.content)\n",
    "            file.write(\"\\n\\n\")\n",
    "\n",
    "            response = client.chat.completions.create(\n",
    "                model=model,\n",
    "                messages=[{\n",
    "                  \"role\": \"user\",\n",
    "                  \"content\": prompt1\n",
    "                }, \n",
    "                ast_message,\n",
    "                {\n",
    "                  \"role\": \"user\",\n",
    "                  \"content\": prompt2\n",
    "                }],\n",
    "                temperature=0)\n",
    "            answer = response.choices[0].message.content\n",
    "            \n",
    "            file.write(\"[USER]\\n\\n\")\n",
    "            file.write(prompt2)\n",
    "            file.write(\"\\n\\n\")\n",
    "            file.write(\"[LLM]\\n\\n\")\n",
    "            file.write(answer)\n",
    "            file.write(\"\\n\\n\")\n",
    "\n",
    "            # print(answer)\n",
    "            # results[pkg_name][class_name][method_name][layer['name']] = parse_json(answer.split('\\n')[-1])\n",
    "            results[pkg_name][class_name][method_name]['layer'] = answer\n",
    "          except:\n",
    "            answer = None\n",
    "            file.write(str(response) if response else \"no response\")\n",
    "            file.write(\"\\n\\n\")\n",
    "            # results[pkg_name][class_name][method_name][layer['name']] = []\n",
    "            results[pkg_name][class_name][method_name]['layer'] = \"undefined\"\n",
    "          # print(answer)\n",
    "          # print()\n",
    "        file.write(\"===============================================\\n\\n\")\n",
    "        # print(dict_to_pretty_json(results[pkg_name][class_name][method_name]))\n",
    "        # print()\n",
    "        # break\n",
    "      file.write(\"CLASS RESULT:\\n\\n\")\n",
    "      file.write(dict_to_pretty_json(results[pkg_name][class_name]))\n",
    "      file.write(\"\\n\\n\")\n",
    "      file.flush()\n",
    "      # break\n",
    "    file.write(\"PACKAGE RESULT:\\n\\n\")\n",
    "    file.write(dict_to_pretty_json(results[pkg_name]))\n",
    "    file.write(\"\\n\\n\")\n",
    "    # break\n",
    "  file.write(\"ALL RESULTS:\\n\\n\")\n",
    "  file.write(dict_to_pretty_json(results))\n"
   ]
  },
  {
   "cell_type": "code",
   "execution_count": null,
   "metadata": {},
   "outputs": [],
   "source": [
    "if not only_print_prompt:\n",
    "  write_dict_to_json(results, f\"layerinator-v2/{project_name}-layers-{timestr}.json\")"
   ]
  },
  {
   "cell_type": "code",
   "execution_count": null,
   "metadata": {},
   "outputs": [],
   "source": [
    "def count_layer_occurrences(input_dict):\n",
    "    layer_count = {}\n",
    "\n",
    "    for method, details in input_dict.items():\n",
    "        layer = details.get(\"layer\")\n",
    "        if layer:\n",
    "            if layer in layer_count:\n",
    "                layer_count[layer] += 1\n",
    "            else:\n",
    "                layer_count[layer] = 1\n",
    "\n",
    "    return layer_count"
   ]
  },
  {
   "cell_type": "code",
   "execution_count": null,
   "metadata": {},
   "outputs": [],
   "source": [
    "results"
   ]
  },
  {
   "cell_type": "code",
   "execution_count": null,
   "metadata": {},
   "outputs": [],
   "source": [
    "for package in results:\n",
    "\tfor clss in results[package]:\n",
    "\t\tresults[package][clss]['layers'] = count_layer_occurrences(results[package][clss])\n",
    "\n",
    "results"
   ]
  },
  {
   "cell_type": "code",
   "execution_count": null,
   "metadata": {},
   "outputs": [],
   "source": [
    "def sum_layer_counts(input_dicts):\n",
    "    layer_count = {}\n",
    "\n",
    "    for class_name, details in input_dicts.items():\n",
    "        layers = details.get(\"layers\", {})\n",
    "        for layer, count in layers.items():\n",
    "            if layer in layer_count:\n",
    "                layer_count[layer] += count\n",
    "            else:\n",
    "                layer_count[layer] = count\n",
    "\n",
    "    return layer_count"
   ]
  },
  {
   "cell_type": "code",
   "execution_count": null,
   "metadata": {},
   "outputs": [],
   "source": [
    "for package in results:\n",
    "\tresults[package]['layers'] = sum_layer_counts(results[package])\n",
    "\n",
    "results"
   ]
  },
  {
   "cell_type": "code",
   "execution_count": null,
   "metadata": {},
   "outputs": [],
   "source": [
    "write_dict_to_json(results, f\"layerinator-v2/{project_name}-layers-recap-{timestr}.json\")"
   ]
  },
  {
   "cell_type": "code",
   "execution_count": null,
   "metadata": {},
   "outputs": [],
   "source": [
    "rows = []\n",
    "\n",
    "for package in results:\n",
    "\tfor clss in [c for c in results[package] if c != 'layers']:\n",
    "\t\tfor method in [m for m in results[package][clss] if m != 'layers']:\n",
    "\t\t\trows.append((package,clss,method,results[package][clss][method]['layer']))\n",
    "\n",
    "rows"
   ]
  },
  {
   "cell_type": "code",
   "execution_count": null,
   "metadata": {},
   "outputs": [],
   "source": [
    "header = (\"package\", \"class\", \"method\", \"layer\")"
   ]
  },
  {
   "cell_type": "code",
   "execution_count": null,
   "metadata": {},
   "outputs": [],
   "source": [
    "import csv\n",
    "\n",
    "with open(f\"layerinator-v2/{project_name}-layers1-{timestr}.csv\", mode='w', newline='') as file:\n",
    "    writer = csv.writer(file)\n",
    "    writer.writerow(header)\n",
    "    writer.writerows(rows)"
   ]
  },
  {
   "cell_type": "code",
   "execution_count": null,
   "metadata": {},
   "outputs": [],
   "source": [
    "rows = []\n",
    "\n",
    "for package in results:\n",
    "\tfor clss in [c for c in results[package] if c != 'layers']:\n",
    "\t\tfor layer in results[package][clss]['layers']:\n",
    "\t\t\trows.append((package,clss,layer,results[package][clss]['layers'][layer]))\n",
    "\n",
    "rows"
   ]
  },
  {
   "cell_type": "code",
   "execution_count": null,
   "metadata": {},
   "outputs": [],
   "source": [
    "header = (\"package\", \"class\", \"layer\", \"count\")"
   ]
  },
  {
   "cell_type": "code",
   "execution_count": null,
   "metadata": {},
   "outputs": [],
   "source": [
    "import csv\n",
    "\n",
    "with open(f\"layerinator-v2/{project_name}-layers2-{timestr}.csv\", mode='w', newline='') as file:\n",
    "    writer = csv.writer(file)\n",
    "    writer.writerow(header)\n",
    "    writer.writerows(rows)"
   ]
  },
  {
   "cell_type": "code",
   "execution_count": null,
   "metadata": {},
   "outputs": [],
   "source": [
    "rows = []\n",
    "\n",
    "for package in results:\n",
    "\tfor clss in [c for c in results[package] if c != 'layers']:\n",
    "\t\tfor layer in results[package][clss]['layers']:\n",
    "\t\t\trows.append((package,clss,layer,results[package][clss]['layers'][layer]/sum(results[package][clss]['layers'].values())))\n",
    "\n",
    "rows"
   ]
  },
  {
   "cell_type": "code",
   "execution_count": null,
   "metadata": {},
   "outputs": [],
   "source": [
    "import csv\n",
    "\n",
    "with open(f\"layerinator-v2/{project_name}-layers3-{timestr}.csv\", mode='w', newline='') as file:\n",
    "    writer = csv.writer(file)\n",
    "    writer.writerow(header)\n",
    "    writer.writerows(rows)"
   ]
  }
 ],
 "metadata": {
  "kernelspec": {
   "display_name": "default",
   "language": "python",
   "name": "python3"
  },
  "language_info": {
   "codemirror_mode": {
    "name": "ipython",
    "version": 3
   },
   "file_extension": ".py",
   "mimetype": "text/x-python",
   "name": "python",
   "nbconvert_exporter": "python",
   "pygments_lexer": "ipython3",
   "version": "3.10.8"
  }
 },
 "nbformat": 4,
 "nbformat_minor": 2
}
