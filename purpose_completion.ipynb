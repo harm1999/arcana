{
 "cells": [
  {
   "attachments": {},
   "cell_type": "markdown",
   "metadata": {},
   "source": [
    "## Imports & helper functions"
   ]
  },
  {
   "cell_type": "code",
   "execution_count": null,
   "metadata": {},
   "outputs": [],
   "source": [
    "%pip install --upgrade py2neo\n",
    "%pip install --upgrade openai"
   ]
  },
  {
   "cell_type": "code",
   "execution_count": null,
   "metadata": {},
   "outputs": [],
   "source": [
    "from py2neo import Graph"
   ]
  },
  {
   "cell_type": "code",
   "execution_count": null,
   "metadata": {},
   "outputs": [],
   "source": [
    "from itertools import groupby"
   ]
  },
  {
   "cell_type": "code",
   "execution_count": null,
   "metadata": {},
   "outputs": [],
   "source": [
    "import json\n",
    "\n",
    "\n",
    "def read_json_file(file_path):\n",
    "    with open(file_path, 'r') as file:\n",
    "        data = json.load(file)\n",
    "    return data\n",
    "\n",
    "\n",
    "def parse_json(json_string):\n",
    "  json_dict = json.loads(json_string)\n",
    "  return json_dict\n",
    "\n",
    "\n",
    "def dict_to_pretty_json(dictionary):\n",
    "  pretty_json = json.dumps(dictionary, indent=2)\n",
    "  return pretty_json\n",
    "\n",
    "\n",
    "def write_dict_to_json(dictionary, file_path):\n",
    "  with open(file_path, 'w') as json_file:\n",
    "    json.dump(dictionary, json_file, indent=2)\n"
   ]
  },
  {
   "cell_type": "code",
   "execution_count": null,
   "metadata": {},
   "outputs": [],
   "source": [
    "import configparser\n",
    "\n",
    "def read_ini_file(file_path):\n",
    "    config = configparser.ConfigParser()\n",
    "    config.read(file_path)\n",
    "    ini_dict = {section: dict(config.items(section))\n",
    "                for section in config.sections()}\n",
    "    return ini_dict\n"
   ]
  },
  {
   "cell_type": "code",
   "execution_count": null,
   "metadata": {},
   "outputs": [],
   "source": [
    "import openai"
   ]
  },
  {
   "attachments": {},
   "cell_type": "markdown",
   "metadata": {},
   "source": [
    "## Parameters"
   ]
  },
  {
   "cell_type": "code",
   "execution_count": null,
   "metadata": {},
   "outputs": [],
   "source": [
    "only_print_prompt = False # do not call the API, just print the prompts"
   ]
  },
  {
   "cell_type": "code",
   "execution_count": null,
   "metadata": {},
   "outputs": [],
   "source": [
    "secrets = read_ini_file('secrets.ini')\n",
    "project_name = 'k9mail'"
   ]
  },
  {
   "attachments": {},
   "cell_type": "markdown",
   "metadata": {},
   "source": [
    "## Connect to neo4j"
   ]
  },
  {
   "cell_type": "code",
   "execution_count": null,
   "metadata": {},
   "outputs": [],
   "source": [
    "graph = Graph(secrets['neo4j']['url'], auth=(secrets['neo4j']['username'], secrets['neo4j']['password']))"
   ]
  },
  {
   "attachments": {},
   "cell_type": "markdown",
   "metadata": {},
   "source": [
    "## Connect to openai"
   ]
  },
  {
   "cell_type": "code",
   "execution_count": null,
   "metadata": {},
   "outputs": [],
   "source": [
    "openai.api_key = secrets['openai']['apikey']\n",
    "model = \"gpt-3.5-turbo\"\n"
   ]
  },
  {
   "attachments": {},
   "cell_type": "markdown",
   "metadata": {},
   "source": [
    "## Packages to be inspected"
   ]
  },
  {
   "cell_type": "code",
   "execution_count": null,
   "metadata": {},
   "outputs": [],
   "source": [
    "# For k9mail\n",
    "packages = [\n",
    "    \"com.fsck.k9\",\n",
    "    \"com.fsck.k9.account\",\n",
    "    \"com.fsck.k9.activity\",\n",
    "    \"com.fsck.k9.activity.compose\",\n",
    "    \"com.fsck.k9.activity.loader\",\n",
    "    \"com.fsck.k9.activity.misc\",\n",
    "    \"com.fsck.k9.activity.setup\",\n",
    "\n",
    "    \"com.fsck.k9.autocrypt\",\n",
    "    \"com.fsck.k9.cache\",\n",
    "    \"com.fsck.k9.controller\",\n",
    "    \"com.fsck.k9.crypto\",\n",
    "    \"com.fsck.k9.fragment\",\n",
    "    \"com.fsck.k9.helper\",\n",
    "    \"com.fsck.k9.helper.jsoup\",\n",
    "\n",
    "    \"com.fsck.k9.mailstore\",\n",
    "    \"com.fsck.k9.mailstore.migrations\",\n",
    "    \"com.fsck.k9.mailstore.util\",\n",
    "    \"com.fsck.k9.message\",\n",
    "    \"com.fsck.k9.message.extractors\",\n",
    "    \"com.fsck.k9.message.html\",\n",
    "    \"com.fsck.k9.message.quote\",\n",
    "    \"com.fsck.k9.message.signature\",\n",
    "\n",
    "    \"com.fsck.k9.ui\",\n",
    "    \"com.fsck.k9.ui.compose\",\n",
    "    \"com.fsck.k9.ui.crypto\",\n",
    "    \"com.fsck.k9.ui.dialog\",\n",
    "    \"com.fsck.k9.ui.message\",\n",
    "    \"com.fsck.k9.ui.messageview\",\n",
    "\n",
    "    \"com.fsck.k9.service\",\n",
    "    \"com.fsck.k9.setup\",\n",
    "    \"com.fsck.k9.search\",\n",
    "    \"com.fsck.k9.view\",\n",
    "    \"com.fsck.k9.widget.list\",\n",
    "    \n",
    "    \"com.fsck.k9.notification\",\n",
    "    \"com.fsck.k9.power\",\n",
    "    \"com.fsck.k9.preferences\",\n",
    "    \"com.fsck.k9.provider\",\n",
    "    \"com.fsck.k9.remotecontrol\",\n",
    "    \"com.fsck.k9.search\",\n",
    "]\n",
    "\n",
    "# For k9mail-library\n",
    "# packages = [\n",
    "#     \"com.fsck.k9.mail\",\n",
    "    \n",
    "#     \"com.fsck.k9.mail.filter\",\n",
    "#     \"com.fsck.k9.mail.helper\",\n",
    "#     \"com.fsck.k9.mail.internet\",\n",
    "#     \"com.fsck.k9.mail.message\",\n",
    "    \n",
    "#     \"com.fsck.k9.mail.oauth\",\n",
    "#     \"com.fsck.k9.mail.power\",\n",
    "#     \"com.fsck.k9.mail.ssl\",\n",
    "#     \"com.fsck.k9.mail.store.imap\",\n",
    "#     \"com.fsck.k9.mail.store.pop3\",\n",
    "#     \"com.fsck.k9.mail.store.webdav\",\n",
    "    \n",
    "#     \"com.fsck.k9.mail.store\",\n",
    "# ]"
   ]
  },
  {
   "attachments": {},
   "cell_type": "markdown",
   "metadata": {},
   "source": [
    "## Ask LLM to summarize methods"
   ]
  },
  {
   "cell_type": "code",
   "execution_count": null,
   "metadata": {},
   "outputs": [],
   "source": [
    "method_goals = dict()\n",
    "method_prompt_template = '''This is method `{}` of a Java {} `{}`:\n",
    "\n",
    "```java\n",
    "{}\n",
    "```\n",
    "\n",
    "In one sentence, what this method does is it'''\n",
    "for package in packages:\n",
    "  print(package)\n",
    "  node_data = graph.run('MATCH (p:Container)-[:contains]->(c:Structure)-[:hasScript]->(m:Operation)'\n",
    "                        f'WHERE p.qualifiedName=\"{package}\" AND m.visibility=\"public\" AND m.kind=\"method\"'\n",
    "                        'RETURN p.qualifiedName, c.qualifiedName, c.kind, m.simpleName, m.sourceText')\n",
    "  method_goals[package] = dict()\n",
    "  grouped_node_data = groupby(node_data, lambda x: (x['c.kind'],x['c.qualifiedName']))\n",
    "  for (kind,class_name), methods_data in grouped_node_data:\n",
    "    print(\"  \" + class_name)\n",
    "    if kind == 'enumeration':\n",
    "      kind = 'enum'\n",
    "    elif kind == 'abstract':\n",
    "      kind = 'abstract class'\n",
    "    method_goals[package][f'{kind} {class_name}'] = []\n",
    "    for row in methods_data:\n",
    "      # print(\"- \" + row['m.simpleName'])\n",
    "      prompt = method_prompt_template.format(\n",
    "          row[\"m.simpleName\"], \n",
    "          kind, \n",
    "          row[\"c.qualifiedName\"], \n",
    "          row[\"m.sourceText\"])\n",
    "      if only_print_prompt:\n",
    "        print(prompt)\n",
    "      else:\n",
    "        try:\n",
    "          response = openai.ChatCompletion.create(\n",
    "            model=model,\n",
    "            messages=[{\n",
    "              \"role\": \"user\",\n",
    "              \"content\": prompt\n",
    "            }])\n",
    "          method_goal = (row['m.simpleName'],\n",
    "                         response['choices'][0]['message']['content'])\n",
    "        except:\n",
    "          method_goal = (row['m.simpleName'], \"(no description)\")\n",
    "        method_goals[package][f'{kind} {class_name}'].append(method_goal)\n",
    "    print(\"    \" + str(method_goals[package][f'{kind} {class_name}']))\n",
    "    # break\n",
    "  print(\"  \" + str(method_goals[package]))\n",
    "  print()\n",
    "  # break\n",
    "print(method_goals)\n"
   ]
  },
  {
   "cell_type": "code",
   "execution_count": null,
   "metadata": {},
   "outputs": [],
   "source": [
    "len(method_goals)"
   ]
  },
  {
   "cell_type": "code",
   "execution_count": null,
   "metadata": {},
   "outputs": [],
   "source": [
    "if not only_print_prompt:\n",
    "  write_dict_to_json(method_goals, f\"{project_name}-method_goals.json\")"
   ]
  },
  {
   "cell_type": "code",
   "execution_count": null,
   "metadata": {},
   "outputs": [],
   "source": [
    "# method_goals = read_json_file(f\"{project_name}-method_goals.json\")\n"
   ]
  },
  {
   "attachments": {},
   "cell_type": "markdown",
   "metadata": {},
   "source": [
    "## Ask LLM to summarize classes (based on methods)"
   ]
  },
  {
   "cell_type": "code",
   "execution_count": null,
   "metadata": {},
   "outputs": [],
   "source": [
    "class_goals = dict()\n",
    "class_prompt_template = '''A Java {} `{}` contains the following public method(s):\n",
    "\n",
    "{}\n",
    "\n",
    "In one sentence, what the {} `{}` does is it'''\n",
    "for package,classes in method_goals.items():\n",
    "  print(package)\n",
    "  class_goals[package] = []\n",
    "  for key,methods in classes.items():\n",
    "    tokens = key.split(' ')\n",
    "    kind = ' '.join(tokens[:-1])\n",
    "    class_name = tokens[-1]\n",
    "    if methods:\n",
    "      prompt = class_prompt_template.format(\n",
    "        kind, \n",
    "        class_name, \n",
    "        \"\\n\".join([f\"- `{name}`: {desc}\" for name, desc in methods]), \n",
    "        kind, \n",
    "        class_name)\n",
    "    else:\n",
    "      prompt = f'A Java {kind} `{class_name}` contains no public methods. In one sentence, based on the name alone, what the {kind} `{class_name}` does is it'\n",
    "    if only_print_prompt:\n",
    "      print(prompt)\n",
    "    else:\n",
    "      try:\n",
    "        response = openai.ChatCompletion.create(\n",
    "          model=model,\n",
    "          messages=[{\n",
    "              \"role\": \"user\",\n",
    "              \"content\": prompt\n",
    "          }])\n",
    "        class_goal = ((kind, class_name),\n",
    "                      response['choices'][0]['message']['content'])\n",
    "      except:\n",
    "        class_goal = ((kind, class_name), '(no description)')\n",
    "      class_goals[package].append(class_goal)\n",
    "  print(\"  \" + str(class_goals[package]))\n",
    "print()\n",
    "print(class_goals)\n"
   ]
  },
  {
   "cell_type": "code",
   "execution_count": null,
   "metadata": {},
   "outputs": [],
   "source": [
    "if not only_print_prompt:\n",
    "  write_dict_to_json(class_goals, f\"{project_name}-class_goals.json\")\n"
   ]
  },
  {
   "cell_type": "code",
   "execution_count": null,
   "metadata": {},
   "outputs": [],
   "source": [
    "# class_goals = read_json_file(f\"{project_name}-class_goals.json\")\n"
   ]
  },
  {
   "attachments": {},
   "cell_type": "markdown",
   "metadata": {},
   "source": [
    "## Ask LLM to summarize packages (based on classes)"
   ]
  },
  {
   "cell_type": "code",
   "execution_count": null,
   "metadata": {},
   "outputs": [],
   "source": [
    "package_goals = []\n",
    "package_prompt_template = '''Given a Java package `{}` containing the following classes:\n",
    "\n",
    "{}\n",
    "\n",
    "In one sentence, what the package `{}` does is it'''\n",
    "for package, classes in class_goals.items():\n",
    "  prompt = package_prompt_template.format(\n",
    "    package,\n",
    "    \"\\n\".join([f\"- {kind} `{name}`: {desc}\" for (kind, name), desc in classes]),\n",
    "    package)\n",
    "  if only_print_prompt:\n",
    "    print(prompt)\n",
    "  else:\n",
    "    try:\n",
    "      response = openai.ChatCompletion.create(\n",
    "        model=model,\n",
    "        messages=[{\n",
    "            \"role\": \"user\",\n",
    "            \"content\": prompt\n",
    "        }])\n",
    "      package_goal = (package, response['choices'][0]['message']['content'])\n",
    "    except:\n",
    "      package_goal = (package, '(no description)')\n",
    "    print(package_goal)\n",
    "    package_goals.append(package_goal)\n",
    "print()\n",
    "print(package_goals)\n"
   ]
  },
  {
   "cell_type": "code",
   "execution_count": null,
   "metadata": {},
   "outputs": [],
   "source": [
    "if not only_print_prompt:\n",
    "  write_dict_to_json(package_goals, f\"{project_name}-package_goals.json\")\n"
   ]
  },
  {
   "cell_type": "code",
   "execution_count": null,
   "metadata": {},
   "outputs": [],
   "source": [
    "# package_goals = read_json_file(f\"{project_name}-package_goals.json\")\n"
   ]
  },
  {
   "attachments": {},
   "cell_type": "markdown",
   "metadata": {},
   "source": [
    "## Which methods/classes/packages could not be summarized by the LLM?"
   ]
  },
  {
   "cell_type": "code",
   "execution_count": null,
   "metadata": {},
   "outputs": [],
   "source": [
    "method_no_desc = [\n",
    "    (key1, key2, item[0])\n",
    "    for key1, value1 in method_goals.items()\n",
    "    for key2, value2 in value1.items()\n",
    "    for item in value2\n",
    "    if item[1] == \"(no description)\"\n",
    "]\n",
    "\n",
    "print(dict_to_pretty_json(method_no_desc))\n"
   ]
  },
  {
   "cell_type": "code",
   "execution_count": null,
   "metadata": {},
   "outputs": [],
   "source": [
    "class_no_desc = [\n",
    "    (key1, item[0])\n",
    "    for key1, value1 in class_goals.items()\n",
    "    for item in value1\n",
    "    if item[1] == \"(no description)\"\n",
    "]\n",
    "\n",
    "print(dict_to_pretty_json(class_no_desc))\n"
   ]
  },
  {
   "cell_type": "code",
   "execution_count": null,
   "metadata": {},
   "outputs": [],
   "source": [
    "package_no_desc = [\n",
    "    item[0]\n",
    "    for value1 in package_goals\n",
    "    for item in value1\n",
    "    if item[1] == \"(no description)\"\n",
    "]\n",
    "\n",
    "print(dict_to_pretty_json(package_no_desc))\n"
   ]
  },
  {
   "attachments": {},
   "cell_type": "markdown",
   "metadata": {},
   "source": [
    "## Print everything"
   ]
  },
  {
   "cell_type": "code",
   "execution_count": null,
   "metadata": {},
   "outputs": [],
   "source": [
    "for package, package_desc in package_goals:\n",
    "  print(f'# package `{package}`')\n",
    "  print()\n",
    "  print(\"This package\", package_desc)\n",
    "  print()\n",
    "  print('This package contains the following class(es):')\n",
    "  print()\n",
    "  for (kind, class_name), class_desc in class_goals[package]:\n",
    "    print(f'## {kind} `{class_name}`')\n",
    "    print()\n",
    "    print(f'This {kind}', class_desc)\n",
    "    print()\n",
    "    print('This class contains the following public method(s):')\n",
    "    print()\n",
    "    for method, method_desc in method_goals[package][f'{kind} {class_name}']:\n",
    "      print(f'- `{method}` {method_desc}')\n",
    "    print()\n",
    "  print()"
   ]
  },
  {
   "attachments": {},
   "cell_type": "markdown",
   "metadata": {},
   "source": [
    "## Generate prompts for decomposing package goals into subgoals\n",
    "\n",
    "This part requires manual tuning of prompts and \"conditioning\" the LLM to get the desired results."
   ]
  },
  {
   "cell_type": "code",
   "execution_count": null,
   "metadata": {},
   "outputs": [],
   "source": [
    "for package, package_desc in package_goals:\n",
    "  print(f'Java package `{package}` contains the following class(es):')\n",
    "  print()\n",
    "  for (kind, class_name), class_desc in class_goals[package]:\n",
    "    print(f'- {kind} `{class_name}`: {class_desc}')\n",
    "  print()\n",
    "  print(f'The package `{package}` {package_desc} Its subgoals are (a subgoal encompasses several classes with common or similar goals):\\n\\n1.\\n\\n')\n"
   ]
  }
 ],
 "metadata": {
  "kernelspec": {
   "display_name": "default",
   "language": "python",
   "name": "python3"
  },
  "language_info": {
   "codemirror_mode": {
    "name": "ipython",
    "version": 3
   },
   "file_extension": ".py",
   "mimetype": "text/x-python",
   "name": "python",
   "nbconvert_exporter": "python",
   "pygments_lexer": "ipython3",
   "version": "3.10.8"
  },
  "orig_nbformat": 4
 },
 "nbformat": 4,
 "nbformat_minor": 2
}
