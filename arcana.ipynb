{
 "cells": [
  {
   "cell_type": "markdown",
   "metadata": {},
   "source": [
    "## Imports & helper functions"
   ]
  },
  {
   "cell_type": "code",
   "execution_count": null,
   "metadata": {},
   "outputs": [],
   "source": [
    "%pip install --upgrade openai\n",
    "%pip install --upgrade tqdm\n",
    "%pip install --upgrade ipywidgets"
   ]
  },
  {
   "cell_type": "code",
   "execution_count": null,
   "metadata": {},
   "outputs": [],
   "source": [
    "import json\n",
    "\n",
    "def read_json_file(file_path):\n",
    "    with open(file_path, 'r', encoding=\"utf-8\") as file:\n",
    "        data = json.load(file)\n",
    "    return data\n",
    "\n",
    "\n",
    "def parse_json(json_string):\n",
    "    json_dict = json.loads(json_string)\n",
    "    return json_dict\n",
    "\n",
    "\n",
    "def prettify_json(obj):\n",
    "    pretty_json = json.dumps(obj, indent=2)\n",
    "    return pretty_json\n",
    "\n",
    "\n",
    "def write_to_json_file(obj, file_path):\n",
    "    with open(file_path, 'w') as json_file:\n",
    "        json.dump(obj, json_file, indent=2)\n"
   ]
  },
  {
   "cell_type": "code",
   "execution_count": null,
   "metadata": {},
   "outputs": [],
   "source": [
    "import configparser\n",
    "\n",
    "def read_ini_file(file_path):\n",
    "    config = configparser.ConfigParser()\n",
    "    config.read(file_path)\n",
    "    ini_dict = {section: dict(config.items(section))\n",
    "                for section in config.sections()}\n",
    "    return ini_dict\n"
   ]
  },
  {
   "cell_type": "code",
   "execution_count": null,
   "metadata": {},
   "outputs": [],
   "source": [
    "from openai import OpenAI"
   ]
  },
  {
   "cell_type": "code",
   "execution_count": null,
   "metadata": {},
   "outputs": [],
   "source": [
    "import re\n",
    "\n",
    "\n",
    "def remove_java_comments(java_source):\n",
    "    # Regular expression to match Java comments (both single-line and multi-line)\n",
    "    pattern = r\"(//.*?$)|(/\\*.*?\\*/)\"\n",
    "\n",
    "    # Remove comments using the regular expression\n",
    "    java_source_without_comments = re.sub(\n",
    "        pattern, \"\", java_source, flags=re.MULTILINE | re.DOTALL)\n",
    "\n",
    "    return java_source_without_comments.strip()\n"
   ]
  },
  {
   "cell_type": "code",
   "execution_count": null,
   "metadata": {},
   "outputs": [],
   "source": [
    "def sentence(s):\n",
    "    '''\n",
    "    Capitalize the first letter of a string `s` and ensures that the string \n",
    "    ends with a period (if it's not already a sentence-ending punctuation).\n",
    "    '''\n",
    "    t = s.strip()\n",
    "    if t[-1] in '.?!…~–—':\n",
    "        return f'{t[0].upper()}{t[1:]}'\n",
    "    else:\n",
    "        return f'{t[0].upper()}{t[1:]}.'"
   ]
  },
  {
   "cell_type": "code",
   "execution_count": null,
   "metadata": {},
   "outputs": [],
   "source": [
    "def transform_graph(graph):\n",
    "    nodes = { node['data']['id']: node['data'] for node in graph['elements']['nodes'] }\n",
    "    edges = {}\n",
    "    for edge in graph['elements']['edges']:\n",
    "        if 'label' in edge['data']:\n",
    "            label = edge['data']['label']\n",
    "        else:\n",
    "            label = ','.join(edge['data']['labels'])\n",
    "            edge['data']['label'] = label\n",
    "\n",
    "        if label not in edges:\n",
    "            edges[label] = []\n",
    "        edges[label].append(edge['data'])\n",
    "    return (nodes, edges)\n"
   ]
  },
  {
   "cell_type": "code",
   "execution_count": null,
   "metadata": {},
   "outputs": [],
   "source": [
    "def invert(edgeList):\n",
    "    prefix = \"inv_\"\n",
    "    invertedEdges = []\n",
    "    for edge in edgeList:\n",
    "        invertedEdge = {\n",
    "            'source': edge['target'],\n",
    "            'target': edge['source'],\n",
    "            'label': prefix + edge.get('label', ''),\n",
    "            **{key: value for key, value in edge.items() if key not in ['source', 'target', 'label']}\n",
    "        }\n",
    "        invertedEdges.append(invertedEdge)\n",
    "    return invertedEdges\n",
    "\n",
    "def find_paths(edgeList1, edgeList2):\n",
    "    source_mapping = {}\n",
    "    for edge in edgeList1:\n",
    "        source_mapping[edge['target']] = edge['source']\n",
    "\n",
    "    paths = set()\n",
    "    for edge in edgeList2:\n",
    "        if edge['source'] in source_mapping:\n",
    "            source1 = source_mapping[edge['source']]\n",
    "            path = [source1, edge['source'], edge['target']]\n",
    "            paths.add(tuple(path))\n",
    "\n",
    "    return paths"
   ]
  },
  {
   "cell_type": "markdown",
   "metadata": {},
   "source": [
    "## Parameters"
   ]
  },
  {
   "cell_type": "code",
   "execution_count": null,
   "metadata": {},
   "outputs": [],
   "source": [
    "# If True: do not call the API, just print the prompts\n",
    "only_print_prompt = False"
   ]
  },
  {
   "cell_type": "code",
   "execution_count": null,
   "metadata": {},
   "outputs": [],
   "source": [
    "config = read_ini_file('config.ini')\n",
    "project_name = config['project']['name']\n",
    "project_name\n",
    "ifile = config['project']['ifile']"
   ]
  },
  {
   "cell_type": "markdown",
   "metadata": {},
   "source": [
    "## Read graph file\n",
    "\n",
    "To access knowledge graph extracted using javapers."
   ]
  },
  {
   "cell_type": "code",
   "execution_count": null,
   "metadata": {},
   "outputs": [],
   "source": [
    "graph = read_json_file(ifile)\n",
    "nodes,edges = transform_graph(read_json_file(ifile))"
   ]
  },
  {
   "cell_type": "markdown",
   "metadata": {},
   "source": [
    "## Connect to openai"
   ]
  },
  {
   "cell_type": "code",
   "execution_count": null,
   "metadata": {},
   "outputs": [],
   "source": [
    "cliet_args = dict()\n",
    "\n",
    "if 'apikey' in config['openai']:\n",
    "    cliet_args['api_key'] = config['openai']['apikey']\n",
    "if 'apibase' in config['openai']:\n",
    "    cliet_args['base_url'] = config['openai']['apibase']\n",
    "if 'model' in config['openai']:\n",
    "    model = config['openai']['model']\n",
    "else:\n",
    "    model = \"gpt-3.5-turbo\"\n",
    "\n",
    "(list(cliet_args.keys()), model)"
   ]
  },
  {
   "cell_type": "code",
   "execution_count": null,
   "metadata": {},
   "outputs": [],
   "source": [
    "client = OpenAI(**cliet_args)\n",
    "client.base_url"
   ]
  },
  {
   "cell_type": "code",
   "execution_count": null,
   "metadata": {},
   "outputs": [],
   "source": [
    "# test the LLM server---create a completion\n",
    "completion = client.chat.completions.create(\n",
    "    model=model,\n",
    "    messages=[{\"role\":\"user\",\"content\":\"Hello, world!\"}],\n",
    "    temperature=0\n",
    ")\n",
    "# print the completion\n",
    "print(completion.choices[0].message.content)"
   ]
  },
  {
   "cell_type": "markdown",
   "metadata": {},
   "source": [
    "## Elements to be inspected"
   ]
  },
  {
   "cell_type": "code",
   "execution_count": null,
   "metadata": {},
   "outputs": [],
   "source": [
    "methods = sorted(find_paths(edges['contains'], edges['hasScript']))\n",
    "len(methods)"
   ]
  },
  {
   "cell_type": "code",
   "execution_count": null,
   "metadata": {},
   "outputs": [],
   "source": [
    "classes = sorted({(pkg,clz) for pkg,clz,_ in methods})\n",
    "len(classes)"
   ]
  },
  {
   "cell_type": "code",
   "execution_count": null,
   "metadata": {},
   "outputs": [],
   "source": [
    "packages = sorted({pkg for pkg,_ in classes})\n",
    "len(packages)"
   ]
  },
  {
   "cell_type": "code",
   "execution_count": null,
   "metadata": {},
   "outputs": [],
   "source": [
    "hierarchy = {\n",
    "    pkg_id: { \n",
    "        cls_id: [\n",
    "            met_id for _,c,met_id in methods if c == cls_id\n",
    "        ] for p,cls_id in classes if p == pkg_id\n",
    "    } for pkg_id in packages\n",
    "}\n",
    "\n",
    "len(hierarchy)"
   ]
  },
  {
   "cell_type": "code",
   "execution_count": null,
   "metadata": {},
   "outputs": [],
   "source": [
    "import time\n",
    "\n",
    "timestr = time.strftime(\"%Y%m%d-%H%M%S\")\n",
    "timestr"
   ]
  },
  {
   "cell_type": "markdown",
   "metadata": {},
   "source": [
    "## Ask LLM to summarize methods, classes, and packages"
   ]
  },
  {
   "cell_type": "code",
   "execution_count": null,
   "metadata": {},
   "outputs": [],
   "source": [
    "method_prompt_template = '''This is method `{op_name}` of {struct_kind} `{struct_name}`:\n",
    "\n",
    "```java\n",
    "{op_src}\n",
    "```\n",
    "\n",
    "Explain the above method on the following aspects:\n",
    "\n",
    "{{ what: \"Describe the functionality of the method in one sentence.\",\n",
    "  parameters: [ {{ name:..., type:..., description:... }}, ... ],\n",
    "  returns: {{ type:..., description: ... }}, // In case of a constructor, consider the constructed class as the return type.\n",
    "  why: \"Explain, in one sentence, the reason why the method is provided or the design rationale of the method.\",\n",
    "  howToUse: \"Describe the usage or the expected set-up of using the method in less than 3 sentences.\"\n",
    "  howItWorks: \"Describe the implementation details of the method in less than 5 sentences.\"\n",
    "  assertions: {{ preConditions: [\"pre-conditions of the method\", ...], postConditions: [\"pre-conditions of the method\", ...] }}\n",
    "}}\n",
    "\n",
    "Respond with a well-formatted JSON object. Do not use any quote marks (\"'`) within the JSON values.'''\n"
   ]
  },
  {
   "cell_type": "code",
   "execution_count": null,
   "metadata": {},
   "outputs": [],
   "source": [
    "class_prompt_template = '''A Java {struct_type} `{struct_name}` specializes the following class(es) or interface(s):\n",
    "\n",
    "{ancestors}\n",
    "\n",
    "This {struct_type} contains the following field(s) and method(s):\n",
    "\n",
    "Fields:\n",
    "\n",
    "{fields}\n",
    "\n",
    "Methods:\n",
    "\n",
    "{methods}\n",
    "\n",
    "Describe the responsibilities of this {struct_type}. Frame the class in one of the following role stereotypes:\n",
    "\n",
    "- **Information Holder** is responsible for knowing facts and providing information to other objects. In Java, it can be a POJO or a Java Bean.\n",
    "\n",
    "- **Service Provider** is responsible for handling requests and performing specific services. It usually implements a specific interface.\n",
    "\n",
    "- **Structurer** is responsible for managing connections and constraints among related things.\n",
    "\n",
    "- **Controller** is responsible for making decisions, directing the work of others, and handling important events.\n",
    "\n",
    "- **Coordinator** is responsible for managing the actions of a group of workers and facilitating communication and work of other objects.\n",
    "\n",
    "- **User Interfacer** is responsible for transmitting user requests for action or display information that can be updated.\n",
    "\n",
    "- **External Interfacer** is responsible for handling faulty conditions in other systems they interface to, relieving their clients of having to know about lower-level details and recovery strategies.\n",
    "\n",
    "- **Internal Interfacer** is responsible for delegating external requests to objects in its neighborhood.\n",
    "\n",
    "And in one of the following architectural layer:\n",
    "\n",
    "- **Presentation Layer**: Manages the user interface, defines UI elements and behavior, displays information, responds to user input, and updates views. Typically (but not only) contains User Interfacers.\n",
    "\n",
    "- **Service Layer**: Controls the application flow, orchestrates domain operations, connects UI events with domain logic, and synchronizes domain changes with the UI. Typically (but not only) contains Coordinators and (Application) Controllers.\n",
    "\n",
    "- **Domain Layer**: Handles business logic, represents domain data and behavior, and performs necessary computations for domain operations. Typically (but not only) contains Information Holders, Service Providers, Structurers, Coordinators, and (Domain) Controllers.\n",
    "\n",
    "- **Data Source Layer**: Interacts with databases, filesystems, hardware, messaging systems, or other data sources, performs CRUD operations, handles data conversion, and ensures data integrity. Typically (but not only) contains External Interfacers.\n",
    "\n",
    "Answer in well-formatted JSON {{ \"roleStereotype\": ..., \"layer\": ..., \"responsibility\": ... }}'''\n"
   ]
  },
  {
   "cell_type": "code",
   "execution_count": null,
   "metadata": {},
   "outputs": [],
   "source": [
    "package_prompt_template = '''Given a Java package `{pkg_name}` containing the following classes:\n",
    "\n",
    "{classes}\n",
    "\n",
    "What is the purpose of this package? Frame the package in one of the following architectural layer:\n",
    "\n",
    "- **Presentation Layer**: Manages the user interface, defines UI elements and behavior, displays information, responds to user input, and updates views. Typically (but not only) contains User Interfacers.\n",
    "\n",
    "- **Service Layer**: Controls the application flow, orchestrates domain operations, connects UI events with domain logic, and synchronizes domain changes with the UI. Typically (but not only) contains Coordinators and (Application) Controllers.\n",
    "\n",
    "- **Domain Layer**: Handles business logic, represents domain data and behavior, and performs necessary computations for domain operations. Typically (but not only) contains Information Holders, Service Providers, Structurers, Coordinators, and (Domain) Controllers.\n",
    "\n",
    "- **Data Source Layer**: Interacts with databases, filesystems, hardware, messaging systems, or other data sources, performs CRUD operations, handles data conversion, and ensures data integrity. Typically (but not only) contains External Interfacers.\n",
    "\n",
    "Answer in well-formatted JSON {{ \"layer\": ..., \"purpose\": ... }}'''\n"
   ]
  },
  {
   "cell_type": "code",
   "execution_count": null,
   "metadata": {},
   "outputs": [],
   "source": [
    "import os\n",
    "from tqdm.notebook import tqdm\n",
    "\n",
    "current_pkg = None\n",
    "current_cls = None\n",
    "\n",
    "only_print_prompt = True\n",
    "\n",
    "with open(f'arcana-{timestr}.log', 'a', encoding=\"utf-8\") as file:\n",
    "    \n",
    "    try:\n",
    "        for pkg_id,pkg_data in tqdm(hierarchy.items(), desc=\"Processing packages\", position=0):\n",
    "            file.write('# ' +  pkg_id + \"\\n\")\n",
    "            package = nodes[pkg_id]\n",
    "\n",
    "            for cls_id,cls_data in tqdm(pkg_data.items(), desc=\"Processing classes\", position=1, leave=False):    \n",
    "                file.write('\\t* ' + cls_id + \"\\n\")\n",
    "                clasz = nodes[cls_id]\n",
    "\n",
    "                class_name = clasz['properties']['qualifiedName']\n",
    "                class_kind = clasz['properties']['kind']\n",
    "                if class_kind == 'enumeration':\n",
    "                    class_kind = 'enum'\n",
    "                elif class_kind == 'abstract':\n",
    "                    class_kind = 'abstract class'\n",
    "\n",
    "                for met_id in tqdm(cls_data, desc='Processing methods', position=2, leave=False):\n",
    "\n",
    "                    if os.path.exists('stop'):\n",
    "                        raise StopIteration\n",
    "\n",
    "                    if not 'description' in nodes[met_id]['properties'] \\\n",
    "                            or not nodes[met_id]['properties']['description']:\n",
    "\n",
    "                        file.write('\\t\\t- ' + met_id + \"\\n\")\n",
    "\n",
    "                        method = nodes[met_id]\n",
    "\n",
    "                        method_name = method['properties']['simpleName']\n",
    "                        method_src = method['properties']['sourceText']\n",
    "\n",
    "                        prompt = method_prompt_template.format(\n",
    "                            op_name= method_name, \n",
    "                            struct_kind= class_kind, \n",
    "                            struct_name= class_name, \n",
    "                            op_src= remove_java_comments(method_src))\n",
    "                        if only_print_prompt:\n",
    "                            file.write(prompt + \"\\n\")\n",
    "                            file.write(\"\\n\")\n",
    "                        else:\n",
    "                            response = None\n",
    "                            try:\n",
    "                                response = client.chat.completions.create(\n",
    "                                    model=model,\n",
    "                                    response_format= { \"type\": \"json_object\" },\n",
    "                                    messages=[\n",
    "                                        {\"role\": \"user\",\"content\": prompt}, \n",
    "                                        # {\"role\": \"assistant\",\"content\": '{ \"What\": \"'}\n",
    "                                    ],\n",
    "                                    max_tokens=1024, # stop=[\". \"],\n",
    "                                    temperature=0)\n",
    "                                description = response.choices[0].message.content\n",
    "                            except:\n",
    "                                description = '{}'\n",
    "                                print(response)\n",
    "                            file.write('\\t\\t\\t ' + description.replace('\\n', '\\n\\t\\t\\t') + \"\\n\")\n",
    "                            try:\n",
    "                                method['properties']['description'] = json.loads(description)\n",
    "                            except:\n",
    "                                method['properties']['description'] = dict()\n",
    "                file.flush()\n",
    "\n",
    "                ancestors = {edge['target'] for edge in edges['specializes'] if edge['source'] == cls_id}\n",
    "                fields = {edge['target'] for edge in edges['hasVariable'] if edge['source'] == cls_id}\n",
    "                fields = [remove_java_comments(nodes[field]['properties']['sourceText']) for field in fields]\n",
    "\n",
    "                prompt = class_prompt_template.format(\n",
    "                        struct_type=class_kind, \n",
    "                        struct_name=class_name, \n",
    "                        ancestors=\"\\n\".join([f\"- `{ancestor}`\" for ancestor in ancestors]) if fields else \"(no ancestors)\",\n",
    "                        fields=\"\\n\".join([f\"- `{field}`\" for field in fields]) if fields else \"(no fields)\",\n",
    "                        methods=\"\\n\".join([f\"- `{nodes[met_id]['properties']['simpleName']}`: {str(nodes[met_id]['properties'].get('description', '(no description)'))}\" \n",
    "                                for met_id in cls_data])) if cls_data else \"(no methods)\"\n",
    "\n",
    "                file.write(prompt + \"\\n\")\n",
    "                file.write(\"\\n\")\n",
    "                if only_print_prompt:\n",
    "                    pass\n",
    "                else:\n",
    "                    response = None\n",
    "                    try:\n",
    "                        # file.write(prompt + \"\\n\")\n",
    "                        response = client.chat.completions.create(\n",
    "                            model=model,\n",
    "                            response_format= { \"type\": \"json_object\" },\n",
    "                            messages=[\n",
    "                                {\"role\": \"user\", \"content\": prompt}, \n",
    "                                # {\"role\": \"assistant\", \"content\": \"{\"}\n",
    "                            ],\n",
    "                            max_tokens=1024, \n",
    "                            # stop=[\". \"],\n",
    "                            temperature=0)\n",
    "                        description = response.choices[0].message.content\n",
    "                    except:\n",
    "                        description = \"{}\"\n",
    "                        file.write(response + \"\\n\")\n",
    "                    file.write('\\t\\t '+ description + \"\\n\")\n",
    "                    try:\n",
    "                        nodes[cls_id]['properties']['description'] = json.loads(description)\n",
    "                    except:\n",
    "                        nodes[cls_id]['properties']['description'] = dict()\n",
    "\n",
    "            prompt = package_prompt_template.format(\n",
    "                pkg_name= package['properties']['qualifiedName'],\n",
    "                classes= \"\\n\".join([f\"- {nodes[cls_id]['properties']['kind']} `{nodes[cls_id]['properties']['qualifiedName']}`: {str(nodes[cls_id]['properties'].get('description', '(no description)'))}\" \n",
    "                                for cls_id, _ in pkg_data.items()])\n",
    "            )\n",
    "\n",
    "            file.write(prompt + \"\\n\")\n",
    "            file.write(\"\\n\")\n",
    "            if only_print_prompt:\n",
    "                pass\n",
    "            else:\n",
    "                response = None\n",
    "                try:\n",
    "                    response = client.chat.completions.create(\n",
    "                        model=model,\n",
    "                        response_format= { \"type\": \"json_object\" },\n",
    "                        messages=[\n",
    "                            {\"role\": \"user\", \"content\": prompt}, \n",
    "                            # {\"role\": \"assistant\", \"content\": f\"The package `{package_name}` is a package that\"}\n",
    "                        ],\n",
    "                        max_tokens=1024, \n",
    "                        # stop=[\". \"],\n",
    "                        temperature=0)\n",
    "                    description = response.choices[0].message.content\n",
    "                except:\n",
    "                    description = '{}'\n",
    "                    file.write(response + \"\\n\")\n",
    "                file.write('\\t' + description + \"\\n\")\n",
    "                try:\n",
    "                    nodes[pkg_id]['properties']['description'] = json.loads(description)\n",
    "                except:\n",
    "                    nodes[pkg_id]['properties']['description'] = dict()\n",
    "    except StopIteration:\n",
    "        pass\n",
    "   \n",
    "print(prettify_json(nodes))\n"
   ]
  },
  {
   "cell_type": "code",
   "execution_count": null,
   "metadata": {},
   "outputs": [],
   "source": [
    "# from statistics import median, quantiles\n",
    "\n",
    "# num_classes_per_pkg = [len(pkg_desc['classes']) for _, pkg_desc in hierarchy.items()]\n",
    "# num_methods_per_class =  [len(class_desc['methods']) for _, pkg_desc in hierarchy.items() for _, class_desc in pkg_desc['classes'].items()]\n",
    "# len(hierarchy), sum(num_classes_per_pkg), min(num_classes_per_pkg), max(num_classes_per_pkg), median(num_classes_per_pkg), quantiles(num_classes_per_pkg, n=4), sum(\n",
    "#     num_methods_per_class), min(num_methods_per_class), max(num_methods_per_class), median(num_methods_per_class), quantiles(num_methods_per_class, n=4)\n"
   ]
  },
  {
   "cell_type": "markdown",
   "metadata": {},
   "source": [
    "## Which methods/classes/packages could not be summarized by the LLM?"
   ]
  },
  {
   "cell_type": "code",
   "execution_count": null,
   "metadata": {},
   "outputs": [],
   "source": [
    "# method_no_desc = [\n",
    "#     (pkg_name, class_name, method_name)\n",
    "#     for pkg_name, pkg_desc in hierarchy.items()\n",
    "#     for class_name, class_desc in pkg_desc['classes'].items()\n",
    "#     for method_name in class_desc['methods']\n",
    "#     if class_desc['methods'][method_name]['description'] == \"(no description)\"\n",
    "# ]\n",
    "\n",
    "# print(prettify_json(method_no_desc))\n"
   ]
  },
  {
   "cell_type": "code",
   "execution_count": null,
   "metadata": {},
   "outputs": [],
   "source": [
    "# class_no_desc = [\n",
    "#     (pkg_name, class_name)\n",
    "#     for pkg_name, pkg_desc in hierarchy.items()\n",
    "#     for class_name in pkg_desc['classes']\n",
    "#     if pkg_desc['classes'][class_name]['description'] == \"(no description)\"\n",
    "# ]\n",
    "\n",
    "# print(prettify_json(class_no_desc))\n"
   ]
  },
  {
   "cell_type": "code",
   "execution_count": null,
   "metadata": {},
   "outputs": [],
   "source": [
    "# package_no_desc = [\n",
    "#     pkg_name\n",
    "#     for pkg_name in hierarchy\n",
    "#     if hierarchy[pkg_name]['description'] == \"(no description)\"\n",
    "# ]\n",
    "\n",
    "# print(prettify_json(package_no_desc))\n"
   ]
  },
  {
   "cell_type": "markdown",
   "metadata": {},
   "source": [
    "## Add the summaries back to the graph nodes"
   ]
  },
  {
   "cell_type": "code",
   "execution_count": null,
   "metadata": {},
   "outputs": [],
   "source": [
    "nodes"
   ]
  },
  {
   "cell_type": "code",
   "execution_count": null,
   "metadata": {},
   "outputs": [],
   "source": [
    "graph['elements']['nodes'] = [{'data':node_data} for node_data in nodes.values()]"
   ]
  },
  {
   "cell_type": "code",
   "execution_count": null,
   "metadata": {},
   "outputs": [],
   "source": [
    "write_to_json_file(graph,f'{project_name}-with-summaries.json')"
   ]
  }
 ],
 "metadata": {
  "kernelspec": {
   "display_name": "Python 3 (ipykernel)",
   "language": "python",
   "name": "python3"
  },
  "language_info": {
   "codemirror_mode": {
    "name": "ipython",
    "version": 3
   },
   "file_extension": ".py",
   "mimetype": "text/x-python",
   "name": "python",
   "nbconvert_exporter": "python",
   "pygments_lexer": "ipython3",
   "version": "3.9.18"
  }
 },
 "nbformat": 4,
 "nbformat_minor": 4
}
