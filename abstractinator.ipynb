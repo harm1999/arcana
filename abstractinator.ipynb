{
 "cells": [
  {
   "cell_type": "code",
   "execution_count": null,
   "metadata": {},
   "outputs": [],
   "source": [
    "import json\n",
    "\n",
    "\n",
    "def read_json_file(file_path):\n",
    "    with open(file_path, 'r') as file:\n",
    "        data = json.load(file)\n",
    "    return data\n",
    "\n",
    "\n",
    "def parse_json(json_string):\n",
    "    json_dict = json.loads(json_string)\n",
    "    return json_dict\n",
    "\n",
    "\n",
    "def prettify_json(obj):\n",
    "    pretty_json = json.dumps(obj, indent=2)\n",
    "    return pretty_json\n",
    "\n",
    "\n",
    "def write_to_json_file(obj, file_path):\n",
    "    with open(file_path, 'w') as json_file:\n",
    "        json.dump(obj, json_file, indent=2)\n"
   ]
  },
  {
   "cell_type": "code",
   "execution_count": null,
   "metadata": {},
   "outputs": [],
   "source": [
    "import configparser\n",
    "\n",
    "def read_ini_file(file_path):\n",
    "    config = configparser.ConfigParser()\n",
    "    config.read(file_path)\n",
    "    ini_dict = {section: dict(config.items(section))\n",
    "                for section in config.sections()}\n",
    "    return ini_dict\n"
   ]
  },
  {
   "cell_type": "code",
   "execution_count": null,
   "metadata": {},
   "outputs": [],
   "source": [
    "def transform_graph(graph):\n",
    "\tnodes = { node['data']['id']: node['data'] for node in graph['elements']['nodes'] }\n",
    "\tedges = {}\n",
    "\tfor edge in graph['elements']['edges']:\n",
    "\t\tif 'label' in edge['data']:\n",
    "\t\t\tlabel = edge['data']['label']\n",
    "\t\telse:\n",
    "\t\t\tlabel = ','.join(edge['data']['labels'])\n",
    "\t\t\tedge['data']['label'] = label\n",
    "\t\t\n",
    "\t\tif label not in edges:\n",
    "\t\t\tedges[label] = []\n",
    "\t\tedges[label].append(edge['data'])\n",
    "\treturn (nodes, edges)\n",
    "\t"
   ]
  },
  {
   "cell_type": "code",
   "execution_count": null,
   "metadata": {},
   "outputs": [],
   "source": [
    "config = read_ini_file('config.ini')\n",
    "project_name = config['project']['name']\n",
    "project_desc = config['project']['desc']\n",
    "ifile = config['project']['ifile']\n",
    "(project_name,project_desc,ifile)\n",
    "\n",
    "# project_name = 'jpacman'\n",
    "ifile = f'{project_name}-with-summaries.json'"
   ]
  },
  {
   "cell_type": "code",
   "execution_count": null,
   "metadata": {},
   "outputs": [],
   "source": [
    "graph = read_json_file(ifile)\n",
    "nodes,edges = transform_graph(graph)\n",
    "\n",
    "list(nodes.keys()), list(edges.keys())"
   ]
  },
  {
   "cell_type": "code",
   "execution_count": null,
   "metadata": {},
   "outputs": [],
   "source": [
    "def invert(edgeList):\n",
    "    prefix = \"inv_\"\n",
    "    return [{**edge,\n",
    "            'source': edge['target'],\n",
    "            'target': edge['source'],\n",
    "            'label': prefix + edge.get('label', 'edge'),\n",
    "        } for edge in edgeList]\n",
    "\n",
    "# invert(edges['contains'])"
   ]
  },
  {
   "cell_type": "code",
   "execution_count": null,
   "metadata": {},
   "outputs": [],
   "source": [
    "def compose(l1, l2, newlabel=None):\n",
    "    mapping = {\n",
    "        edge['source']: {\n",
    "            'target': edge['target'], \n",
    "            'label': edge.get('label','edge1'), \n",
    "            'weight': edge.get('properties', {}).get('weight', 1)\n",
    "        } for edge in l2 }\n",
    "    \n",
    "    result = {}\n",
    "    for edge in l1:\n",
    "        s1 = edge['source']\n",
    "        t1 = edge['target']\n",
    "        label = edge.get('label', 'edge2')\n",
    "        properties = edge.get('properties', {})\n",
    "        mappingEntry = mapping.get(t1)\n",
    "\n",
    "        if mappingEntry:\n",
    "            newWeight = mappingEntry['weight'] * properties.get('weight', 1)\n",
    "            key = (s1, mappingEntry['target'])\n",
    "            if key not in result:\n",
    "                result[key] = {\n",
    "                    'source': s1,\n",
    "                    'target': mappingEntry['target'],\n",
    "                    'label': newlabel or label + \"-\" + mappingEntry['label'],\n",
    "                    'properties': {'weight': newWeight},\n",
    "                }\n",
    "            else:\n",
    "                result[key]['properties']['weight'] += newWeight\n",
    "    return list(result.values())\n",
    "\n",
    "\n",
    "contains = [\n",
    "    {\"source\": \"class A\", \"target\": \"method x\"},\n",
    "    {\"source\": \"class A\", \"target\": \"method x2\"},\n",
    "    {\"source\": \"class B\", \"target\": \"method y\"}\n",
    "]\n",
    "\n",
    "invokes = [\n",
    "    {\"source\": \"method x\", \"target\": \"method y\"},\n",
    "    {\"source\": \"method x2\", \"target\": \"method y\"}\n",
    "]\n",
    "\n",
    "inverted_contains = invert(contains)\n",
    "\n",
    "calls = compose(compose(contains, invokes), inverted_contains)\n",
    "\n",
    "calls\n"
   ]
  },
  {
   "cell_type": "code",
   "execution_count": null,
   "metadata": {},
   "outputs": [],
   "source": [
    "def get_all_labels(objects):\n",
    "    labels = set()\n",
    "    for obj in objects.values():\n",
    "        if 'labels' in obj and isinstance(obj['labels'], list):\n",
    "            labels.update(obj['labels'])\n",
    "    return labels\n",
    "\n",
    "get_all_labels(nodes)"
   ]
  },
  {
   "cell_type": "code",
   "execution_count": null,
   "metadata": {},
   "outputs": [],
   "source": [
    "def get_edge_node_labels(edge, nodes):\n",
    "    src_labels = nodes.get(edge['source'], {}).get('labels', [])\n",
    "    tgt_labels = nodes.get(edge['target'], {}).get('labels', [])\n",
    "\n",
    "    return [(src_label, tgt_label) for src_label in src_labels for tgt_label in tgt_labels]\n",
    "\n",
    "get_edge_node_labels(edges['invokes'][0], nodes)"
   ]
  },
  {
   "cell_type": "code",
   "execution_count": null,
   "metadata": {},
   "outputs": [],
   "source": [
    "def get_source_and_target_labels(edge_list, nodes):\n",
    "    edge_node_labels = {label for edge in edge_list for label in get_edge_node_labels(edge, nodes)}\n",
    "\n",
    "    return edge_node_labels\n",
    "\n",
    "get_source_and_target_labels(edges['invokes'], nodes)"
   ]
  },
  {
   "cell_type": "code",
   "execution_count": null,
   "metadata": {},
   "outputs": [],
   "source": [
    "def get_ontology(edges, nodes):\n",
    "    return {label: get_source_and_target_labels(edge, nodes) for label, edge in edges.items()}\n",
    "\n",
    "get_ontology(edges, nodes)"
   ]
  },
  {
   "cell_type": "code",
   "execution_count": null,
   "metadata": {},
   "outputs": [],
   "source": [
    "def lift(rel1, rel2, newlabel=None):\n",
    "    return compose(compose(rel1, rel2), invert(rel1), newlabel)\n",
    "\n",
    "lift(contains, invokes)"
   ]
  },
  {
   "cell_type": "code",
   "execution_count": null,
   "metadata": {},
   "outputs": [],
   "source": [
    "get_all_labels(nodes)"
   ]
  },
  {
   "cell_type": "code",
   "execution_count": null,
   "metadata": {},
   "outputs": [],
   "source": [
    "get_source_and_target_labels(edges['invokes'], nodes)"
   ]
  },
  {
   "cell_type": "code",
   "execution_count": null,
   "metadata": {},
   "outputs": [],
   "source": [
    "get_ontology(edges,nodes)"
   ]
  },
  {
   "cell_type": "code",
   "execution_count": null,
   "metadata": {},
   "outputs": [],
   "source": [
    "calls = lift(edges['hasScript'], edges['invokes'], 'calls')\n",
    "calls"
   ]
  },
  {
   "cell_type": "code",
   "execution_count": null,
   "metadata": {},
   "outputs": [],
   "source": [
    "constructs = compose(edges['hasScript'], edges['instantiates'], 'constructs')\n",
    "constructs"
   ]
  },
  {
   "cell_type": "code",
   "execution_count": null,
   "metadata": {},
   "outputs": [],
   "source": [
    "holds = compose(edges['hasVariable'], edges['type'], \"holds\")\n",
    "holds"
   ]
  },
  {
   "cell_type": "code",
   "execution_count": null,
   "metadata": {},
   "outputs": [],
   "source": [
    "accepts = compose(edges['hasScript'], compose(edges['hasParameter'], edges['type']), \"accepts\")\n",
    "accepts"
   ]
  },
  {
   "cell_type": "code",
   "execution_count": null,
   "metadata": {},
   "outputs": [],
   "source": [
    "returns = compose(edges['hasScript'], edges['returnType'], \"returns\")\n",
    "returns"
   ]
  },
  {
   "cell_type": "markdown",
   "metadata": {},
   "source": [
    "## Fix for nested classes\n",
    "\n",
    "To make our life easier, let's change an edge label: \"contains\" is now only for packages to other packages or classes, while classes to classes is changed into \"nests\"."
   ]
  },
  {
   "cell_type": "code",
   "execution_count": null,
   "metadata": {},
   "outputs": [],
   "source": [
    "nested_classes_set = set(\n",
    "    edge['target'] for edge in edges['contains']\n",
    "    if 'Structure' in nodes.get(edge['source'], {}).get('labels', []))\n",
    "nested_classes_set"
   ]
  },
  {
   "cell_type": "code",
   "execution_count": null,
   "metadata": {},
   "outputs": [],
   "source": [
    "top_level_classes = [\n",
    "    node_id for node_id, node in nodes.items()\n",
    "    if 'Structure' in node.get('labels', []) and node_id not in nested_classes_set\n",
    "]\n",
    "\n",
    "top_level_classes_set = set(top_level_classes)\n",
    "\n",
    "top_level_classes_set"
   ]
  },
  {
   "cell_type": "code",
   "execution_count": null,
   "metadata": {},
   "outputs": [],
   "source": [
    "new_contains = [edge for edge in edges['contains'] if edge['source'] not in top_level_classes_set]\n",
    "new_contains"
   ]
  },
  {
   "cell_type": "code",
   "execution_count": null,
   "metadata": {},
   "outputs": [],
   "source": [
    "nests = edges['nests'] \\\n",
    "\t\tif 'nests' in edges \\\n",
    "\t\telse [dict(edge, label=\"nests\") \n",
    "\t\t\t\tfor edge in edges['contains'] \n",
    "\t\t\t\tif edge['source'] in top_level_classes_set]\n",
    "nests"
   ]
  },
  {
   "cell_type": "code",
   "execution_count": null,
   "metadata": {},
   "outputs": [],
   "source": [
    "depends_calls = [edge for edge in lift(new_contains, calls, \"depends_calls\") if edge['source'] != edge['target']]\n",
    "depends_holds = [edge for edge in lift(new_contains, holds, \"depends_holds\") if edge['source'] != edge['target']]\n",
    "depends_constructs = [edge for edge in lift(new_contains, constructs, \"depends_constructs\") if edge['source'] != edge['target']]\n",
    "depends_accepts = [edge for edge in lift(new_contains, accepts, \"depends_accepts\") if edge['source'] != edge['target']]\n",
    "\n",
    "depends = depends_calls + depends_holds + depends_constructs + depends_accepts\n",
    "depends"
   ]
  },
  {
   "cell_type": "code",
   "execution_count": null,
   "metadata": {},
   "outputs": [],
   "source": [
    "def filter_objects_by_labels(data, labels):\n",
    "    filtered_data = {}\n",
    "    for key, object in data.items():\n",
    "        if any(label in labels for label in object['labels']):\n",
    "            filtered_data[key] = object\n",
    "    return filtered_data\n"
   ]
  },
  {
   "cell_type": "code",
   "execution_count": null,
   "metadata": {},
   "outputs": [],
   "source": [
    "abstract_nodes = filter_objects_by_labels(nodes, [\"Container\", \"Structure\", \"Primitive\", \"Problem\"])\n",
    "abstract_edges = {\n",
    "    'contains': new_contains,\n",
    "    'specializes': edges['specializes'],\n",
    "    'nests': nests,\n",
    "    'calls': calls,\n",
    "    'constructs': constructs,\n",
    "    'holds': holds,\n",
    "    'accepts': accepts,\n",
    "    'returns': returns,\n",
    "}\n",
    "\n",
    "abstract_nodes, abstract_edges"
   ]
  },
  {
   "cell_type": "code",
   "execution_count": null,
   "metadata": {},
   "outputs": [],
   "source": [
    "abstract_graph = {\n",
    "    'elements': {\n",
    "        'nodes': [{'data':node} for node in abstract_nodes.values()],\n",
    "        'edges': [{'data':edge} for edge_list in abstract_edges.values() for edge in edge_list],\n",
    "    },\n",
    "}\n",
    "\n",
    "abstract_graph['elements']\n"
   ]
  },
  {
   "cell_type": "code",
   "execution_count": null,
   "metadata": {},
   "outputs": [],
   "source": [
    "def get_edges_with_labels(nodes, edge_list, label):\n",
    "    # Filter edge_list to include only edges where both source and target nodes have label \"Container\"\n",
    "    filtered_edges = [edge for edge in edge_list if label in nodes[edge['source']].get('labels', []) and label in nodes[edge['target']].get('labels', [])]\n",
    "    return filtered_edges\n"
   ]
  },
  {
   "cell_type": "code",
   "execution_count": null,
   "metadata": {},
   "outputs": [],
   "source": [
    "get_edges_with_labels(nodes, edges['contains'], 'Container')"
   ]
  },
  {
   "cell_type": "code",
   "execution_count": null,
   "metadata": {},
   "outputs": [],
   "source": [
    "pkg_nodes = filter_objects_by_labels(nodes, [\"Container\", \"Problem\"])\n",
    "pkg_edges = {\n",
    "    'contains': get_edges_with_labels(nodes, edges['contains'], \"Container\"),\n",
    "    'depends': depends\n",
    "}\n",
    "\n",
    "pkg_edges\n"
   ]
  },
  {
   "cell_type": "code",
   "execution_count": null,
   "metadata": {},
   "outputs": [],
   "source": [
    "pkg_graph = {\n",
    "    \"elements\": {\n",
    "        \"nodes\": [ {\"data\": node} for node in list(pkg_nodes.values()) ],\n",
    "        \"edges\": [ {\"data\": edge} for edge in sum(list(pkg_edges.values()), []) ]\n",
    "    }\n",
    "}\n",
    "\n",
    "pkg_graph[\"elements\"]"
   ]
  },
  {
   "cell_type": "code",
   "execution_count": null,
   "metadata": {},
   "outputs": [],
   "source": [
    "write_to_json_file(abstract_graph, f\"{project_name}-abstract.json\")"
   ]
  },
  {
   "cell_type": "code",
   "execution_count": null,
   "metadata": {},
   "outputs": [],
   "source": [
    "write_to_json_file(pkg_graph, f\"{project_name}-more-abstract.json\")"
   ]
  }
 ],
 "metadata": {
  "kernelspec": {
   "display_name": "default",
   "language": "python",
   "name": "python3"
  },
  "language_info": {
   "codemirror_mode": {
    "name": "ipython",
    "version": 3
   },
   "file_extension": ".py",
   "mimetype": "text/x-python",
   "name": "python",
   "nbconvert_exporter": "python",
   "pygments_lexer": "ipython3",
   "version": "3.10.8"
  }
 },
 "nbformat": 4,
 "nbformat_minor": 2
}
